{
 "cells": [
  {
   "cell_type": "code",
   "execution_count": 1,
   "id": "12cafa17",
   "metadata": {},
   "outputs": [],
   "source": [
    "import pandas as pd\n",
    "import numpy as np \n",
    "import seaborn as sns"
   ]
  },
  {
   "cell_type": "markdown",
   "id": "b1ddc4b0",
   "metadata": {},
   "source": [
    "### Load Datasets and Exploratory Data Analysis"
   ]
  },
  {
   "cell_type": "code",
   "execution_count": 2,
   "id": "f2af26d4",
   "metadata": {},
   "outputs": [],
   "source": [
    "df_transaction = pd.read_csv('transaction_dat.csv')\n",
    "df_account = pd.read_csv('account_dat.csv')\n",
    "df_device = pd.read_csv('device_ref.csv')\n",
    "\n",
    "df_inapp = pd.read_csv('in-app_dat.csv')\n",
    "df_app = pd.read_csv('app_dat.csv')\n",
    "df_category = pd.read_csv('category_ref.csv')"
   ]
  },
  {
   "cell_type": "code",
   "execution_count": 3,
   "id": "5d65aa0d",
   "metadata": {},
   "outputs": [],
   "source": [
    "# account table "
   ]
  },
  {
   "cell_type": "code",
   "execution_count": 4,
   "id": "7484e1d5",
   "metadata": {
    "scrolled": true
   },
   "outputs": [
    {
     "data": {
      "text/html": [
       "<div>\n",
       "<style scoped>\n",
       "    .dataframe tbody tr th:only-of-type {\n",
       "        vertical-align: middle;\n",
       "    }\n",
       "\n",
       "    .dataframe tbody tr th {\n",
       "        vertical-align: top;\n",
       "    }\n",
       "\n",
       "    .dataframe thead th {\n",
       "        text-align: right;\n",
       "    }\n",
       "</style>\n",
       "<table border=\"1\" class=\"dataframe\">\n",
       "  <thead>\n",
       "    <tr style=\"text-align: right;\">\n",
       "      <th></th>\n",
       "      <th>acct_id</th>\n",
       "      <th>create_dt</th>\n",
       "      <th>payment_type</th>\n",
       "    </tr>\n",
       "  </thead>\n",
       "  <tbody>\n",
       "    <tr>\n",
       "      <th>0</th>\n",
       "      <td>eb23e449d274bddb</td>\n",
       "      <td>4/3/12</td>\n",
       "      <td>PMOF</td>\n",
       "    </tr>\n",
       "    <tr>\n",
       "      <th>1</th>\n",
       "      <td>3d60dcb8494a0d70</td>\n",
       "      <td>8/31/09</td>\n",
       "      <td>PMOF</td>\n",
       "    </tr>\n",
       "    <tr>\n",
       "      <th>2</th>\n",
       "      <td>9b6d6fbf76504d85</td>\n",
       "      <td>11/6/08</td>\n",
       "      <td>PMOF</td>\n",
       "    </tr>\n",
       "    <tr>\n",
       "      <th>3</th>\n",
       "      <td>343255370828b380</td>\n",
       "      <td>1/3/12</td>\n",
       "      <td>PMOF</td>\n",
       "    </tr>\n",
       "    <tr>\n",
       "      <th>4</th>\n",
       "      <td>664e27f05189c387</td>\n",
       "      <td>10/31/10</td>\n",
       "      <td>PMOF</td>\n",
       "    </tr>\n",
       "  </tbody>\n",
       "</table>\n",
       "</div>"
      ],
      "text/plain": [
       "            acct_id create_dt payment_type\n",
       "0  eb23e449d274bddb    4/3/12         PMOF\n",
       "1  3d60dcb8494a0d70   8/31/09         PMOF\n",
       "2  9b6d6fbf76504d85   11/6/08         PMOF\n",
       "3  343255370828b380    1/3/12         PMOF\n",
       "4  664e27f05189c387  10/31/10         PMOF"
      ]
     },
     "execution_count": 4,
     "metadata": {},
     "output_type": "execute_result"
    }
   ],
   "source": [
    "df_account.head()"
   ]
  },
  {
   "cell_type": "code",
   "execution_count": 5,
   "id": "5e34d696",
   "metadata": {},
   "outputs": [
    {
     "data": {
      "text/html": [
       "<div>\n",
       "<style scoped>\n",
       "    .dataframe tbody tr th:only-of-type {\n",
       "        vertical-align: middle;\n",
       "    }\n",
       "\n",
       "    .dataframe tbody tr th {\n",
       "        vertical-align: top;\n",
       "    }\n",
       "\n",
       "    .dataframe thead th {\n",
       "        text-align: right;\n",
       "    }\n",
       "</style>\n",
       "<table border=\"1\" class=\"dataframe\">\n",
       "  <thead>\n",
       "    <tr style=\"text-align: right;\">\n",
       "      <th></th>\n",
       "      <th>acct_id</th>\n",
       "      <th>create_dt</th>\n",
       "      <th>payment_type</th>\n",
       "    </tr>\n",
       "  </thead>\n",
       "  <tbody>\n",
       "    <tr>\n",
       "      <th>count</th>\n",
       "      <td>100000</td>\n",
       "      <td>100000</td>\n",
       "      <td>100000</td>\n",
       "    </tr>\n",
       "    <tr>\n",
       "      <th>unique</th>\n",
       "      <td>100000</td>\n",
       "      <td>3654</td>\n",
       "      <td>2</td>\n",
       "    </tr>\n",
       "    <tr>\n",
       "      <th>top</th>\n",
       "      <td>7482383f6c600cb0</td>\n",
       "      <td>5/25/13</td>\n",
       "      <td>PMOF</td>\n",
       "    </tr>\n",
       "    <tr>\n",
       "      <th>freq</th>\n",
       "      <td>1</td>\n",
       "      <td>54</td>\n",
       "      <td>50000</td>\n",
       "    </tr>\n",
       "  </tbody>\n",
       "</table>\n",
       "</div>"
      ],
      "text/plain": [
       "                 acct_id create_dt payment_type\n",
       "count             100000    100000       100000\n",
       "unique            100000      3654            2\n",
       "top     7482383f6c600cb0   5/25/13         PMOF\n",
       "freq                   1        54        50000"
      ]
     },
     "execution_count": 5,
     "metadata": {},
     "output_type": "execute_result"
    }
   ],
   "source": [
    "df_account.describe()"
   ]
  },
  {
   "cell_type": "code",
   "execution_count": 6,
   "id": "681d5229",
   "metadata": {},
   "outputs": [
    {
     "name": "stdout",
     "output_type": "stream",
     "text": [
      "<class 'pandas.core.frame.DataFrame'>\n",
      "RangeIndex: 100000 entries, 0 to 99999\n",
      "Data columns (total 3 columns):\n",
      " #   Column        Non-Null Count   Dtype \n",
      "---  ------        --------------   ----- \n",
      " 0   acct_id       100000 non-null  object\n",
      " 1   create_dt     100000 non-null  object\n",
      " 2   payment_type  100000 non-null  object\n",
      "dtypes: object(3)\n",
      "memory usage: 2.3+ MB\n"
     ]
    }
   ],
   "source": [
    "df_account.info()"
   ]
  },
  {
   "cell_type": "code",
   "execution_count": 7,
   "id": "5db74a93",
   "metadata": {},
   "outputs": [
    {
     "data": {
      "text/plain": [
       "'1/1/08'"
      ]
     },
     "execution_count": 7,
     "metadata": {},
     "output_type": "execute_result"
    }
   ],
   "source": [
    "min(df_account['create_dt'])"
   ]
  },
  {
   "cell_type": "code",
   "execution_count": 8,
   "id": "728e9611",
   "metadata": {},
   "outputs": [
    {
     "data": {
      "text/plain": [
       "'9/9/16'"
      ]
     },
     "execution_count": 8,
     "metadata": {},
     "output_type": "execute_result"
    }
   ],
   "source": [
    "max(df_account['create_dt'])"
   ]
  },
  {
   "cell_type": "code",
   "execution_count": 9,
   "id": "02ed399f",
   "metadata": {},
   "outputs": [
    {
     "data": {
      "text/plain": [
       "PMOF         50000\n",
       "Free only    50000\n",
       "Name: payment_type, dtype: int64"
      ]
     },
     "execution_count": 9,
     "metadata": {},
     "output_type": "execute_result"
    }
   ],
   "source": [
    "df_account['payment_type'].value_counts()"
   ]
  },
  {
   "cell_type": "code",
   "execution_count": 10,
   "id": "301d335d",
   "metadata": {},
   "outputs": [
    {
     "data": {
      "text/plain": [
       "100000"
      ]
     },
     "execution_count": 10,
     "metadata": {},
     "output_type": "execute_result"
    }
   ],
   "source": [
    "len(df_account['acct_id'])"
   ]
  },
  {
   "cell_type": "code",
   "execution_count": 11,
   "id": "e219a11f",
   "metadata": {},
   "outputs": [
    {
     "data": {
      "text/plain": [
       "100000"
      ]
     },
     "execution_count": 11,
     "metadata": {},
     "output_type": "execute_result"
    }
   ],
   "source": [
    "df_account['acct_id'].nunique()"
   ]
  },
  {
   "cell_type": "code",
   "execution_count": 12,
   "id": "19873233",
   "metadata": {},
   "outputs": [
    {
     "data": {
      "text/html": [
       "<div>\n",
       "<style scoped>\n",
       "    .dataframe tbody tr th:only-of-type {\n",
       "        vertical-align: middle;\n",
       "    }\n",
       "\n",
       "    .dataframe tbody tr th {\n",
       "        vertical-align: top;\n",
       "    }\n",
       "\n",
       "    .dataframe thead th {\n",
       "        text-align: right;\n",
       "    }\n",
       "</style>\n",
       "<table border=\"1\" class=\"dataframe\">\n",
       "  <thead>\n",
       "    <tr style=\"text-align: right;\">\n",
       "      <th></th>\n",
       "      <th>app_name</th>\n",
       "      <th>content_id</th>\n",
       "      <th>category_id</th>\n",
       "      <th>device_id</th>\n",
       "    </tr>\n",
       "  </thead>\n",
       "  <tbody>\n",
       "    <tr>\n",
       "      <th>0</th>\n",
       "      <td>half-slouched having</td>\n",
       "      <td>22dfac9721b899cb</td>\n",
       "      <td>Y-8</td>\n",
       "      <td>3</td>\n",
       "    </tr>\n",
       "    <tr>\n",
       "      <th>1</th>\n",
       "      <td>lift whale-ships</td>\n",
       "      <td>7c645810cd7f166e</td>\n",
       "      <td>M-7</td>\n",
       "      <td>3</td>\n",
       "    </tr>\n",
       "    <tr>\n",
       "      <th>2</th>\n",
       "      <td>mightily community</td>\n",
       "      <td>c495bcb878faffaa</td>\n",
       "      <td>Y-8</td>\n",
       "      <td>2</td>\n",
       "    </tr>\n",
       "    <tr>\n",
       "      <th>3</th>\n",
       "      <td>session: too--shall</td>\n",
       "      <td>4e683dcd461cdd22</td>\n",
       "      <td>Y-8</td>\n",
       "      <td>1</td>\n",
       "    </tr>\n",
       "    <tr>\n",
       "      <th>4</th>\n",
       "      <td>That Zoology</td>\n",
       "      <td>6473dd29a2badbf1</td>\n",
       "      <td>Y-8</td>\n",
       "      <td>3</td>\n",
       "    </tr>\n",
       "  </tbody>\n",
       "</table>\n",
       "</div>"
      ],
      "text/plain": [
       "               app_name        content_id category_id  device_id\n",
       "0  half-slouched having  22dfac9721b899cb         Y-8          3\n",
       "1      lift whale-ships  7c645810cd7f166e         M-7          3\n",
       "2    mightily community  c495bcb878faffaa         Y-8          2\n",
       "3   session: too--shall  4e683dcd461cdd22         Y-8          1\n",
       "4          That Zoology  6473dd29a2badbf1         Y-8          3"
      ]
     },
     "execution_count": 12,
     "metadata": {},
     "output_type": "execute_result"
    }
   ],
   "source": [
    "# app table\n",
    "df_app.head()"
   ]
  },
  {
   "cell_type": "code",
   "execution_count": 13,
   "id": "d6c409fc",
   "metadata": {},
   "outputs": [
    {
     "data": {
      "text/html": [
       "<div>\n",
       "<style scoped>\n",
       "    .dataframe tbody tr th:only-of-type {\n",
       "        vertical-align: middle;\n",
       "    }\n",
       "\n",
       "    .dataframe tbody tr th {\n",
       "        vertical-align: top;\n",
       "    }\n",
       "\n",
       "    .dataframe thead th {\n",
       "        text-align: right;\n",
       "    }\n",
       "</style>\n",
       "<table border=\"1\" class=\"dataframe\">\n",
       "  <thead>\n",
       "    <tr style=\"text-align: right;\">\n",
       "      <th></th>\n",
       "      <th>device_id</th>\n",
       "    </tr>\n",
       "  </thead>\n",
       "  <tbody>\n",
       "    <tr>\n",
       "      <th>count</th>\n",
       "      <td>1000.000000</td>\n",
       "    </tr>\n",
       "    <tr>\n",
       "      <th>mean</th>\n",
       "      <td>2.727000</td>\n",
       "    </tr>\n",
       "    <tr>\n",
       "      <th>std</th>\n",
       "      <td>0.612247</td>\n",
       "    </tr>\n",
       "    <tr>\n",
       "      <th>min</th>\n",
       "      <td>1.000000</td>\n",
       "    </tr>\n",
       "    <tr>\n",
       "      <th>25%</th>\n",
       "      <td>3.000000</td>\n",
       "    </tr>\n",
       "    <tr>\n",
       "      <th>50%</th>\n",
       "      <td>3.000000</td>\n",
       "    </tr>\n",
       "    <tr>\n",
       "      <th>75%</th>\n",
       "      <td>3.000000</td>\n",
       "    </tr>\n",
       "    <tr>\n",
       "      <th>max</th>\n",
       "      <td>3.000000</td>\n",
       "    </tr>\n",
       "  </tbody>\n",
       "</table>\n",
       "</div>"
      ],
      "text/plain": [
       "         device_id\n",
       "count  1000.000000\n",
       "mean      2.727000\n",
       "std       0.612247\n",
       "min       1.000000\n",
       "25%       3.000000\n",
       "50%       3.000000\n",
       "75%       3.000000\n",
       "max       3.000000"
      ]
     },
     "execution_count": 13,
     "metadata": {},
     "output_type": "execute_result"
    }
   ],
   "source": [
    "df_app.describe()"
   ]
  },
  {
   "cell_type": "code",
   "execution_count": 14,
   "id": "65c50ca6",
   "metadata": {},
   "outputs": [
    {
     "data": {
      "text/html": [
       "<div>\n",
       "<style scoped>\n",
       "    .dataframe tbody tr th:only-of-type {\n",
       "        vertical-align: middle;\n",
       "    }\n",
       "\n",
       "    .dataframe tbody tr th {\n",
       "        vertical-align: top;\n",
       "    }\n",
       "\n",
       "    .dataframe thead th {\n",
       "        text-align: right;\n",
       "    }\n",
       "</style>\n",
       "<table border=\"1\" class=\"dataframe\">\n",
       "  <thead>\n",
       "    <tr style=\"text-align: right;\">\n",
       "      <th></th>\n",
       "      <th>app_name</th>\n",
       "      <th>content_id</th>\n",
       "      <th>category_id</th>\n",
       "    </tr>\n",
       "  </thead>\n",
       "  <tbody>\n",
       "    <tr>\n",
       "      <th>count</th>\n",
       "      <td>1000</td>\n",
       "      <td>1000</td>\n",
       "      <td>1000</td>\n",
       "    </tr>\n",
       "    <tr>\n",
       "      <th>unique</th>\n",
       "      <td>997</td>\n",
       "      <td>1000</td>\n",
       "      <td>5</td>\n",
       "    </tr>\n",
       "    <tr>\n",
       "      <th>top</th>\n",
       "      <td>#NAME?</td>\n",
       "      <td>dbfe06aef68805a7</td>\n",
       "      <td>Z-1</td>\n",
       "    </tr>\n",
       "    <tr>\n",
       "      <th>freq</th>\n",
       "      <td>4</td>\n",
       "      <td>1</td>\n",
       "      <td>392</td>\n",
       "    </tr>\n",
       "  </tbody>\n",
       "</table>\n",
       "</div>"
      ],
      "text/plain": [
       "       app_name        content_id category_id\n",
       "count      1000              1000        1000\n",
       "unique      997              1000           5\n",
       "top      #NAME?  dbfe06aef68805a7         Z-1\n",
       "freq          4                 1         392"
      ]
     },
     "execution_count": 14,
     "metadata": {},
     "output_type": "execute_result"
    }
   ],
   "source": [
    "df_app[['app_name','content_id','category_id']].describe()"
   ]
  },
  {
   "cell_type": "code",
   "execution_count": 15,
   "id": "f72d934b",
   "metadata": {},
   "outputs": [
    {
     "data": {
      "text/plain": [
       "Z-1    392\n",
       "Y-8    260\n",
       "M-7    153\n",
       "Q-1    149\n",
       "Q-5     46\n",
       "Name: category_id, dtype: int64"
      ]
     },
     "execution_count": 15,
     "metadata": {},
     "output_type": "execute_result"
    }
   ],
   "source": [
    "df_app['category_id'].value_counts()"
   ]
  },
  {
   "cell_type": "code",
   "execution_count": 16,
   "id": "0cdafc6a",
   "metadata": {},
   "outputs": [
    {
     "data": {
      "text/html": [
       "<div>\n",
       "<style scoped>\n",
       "    .dataframe tbody tr th:only-of-type {\n",
       "        vertical-align: middle;\n",
       "    }\n",
       "\n",
       "    .dataframe tbody tr th {\n",
       "        vertical-align: top;\n",
       "    }\n",
       "\n",
       "    .dataframe thead th {\n",
       "        text-align: right;\n",
       "    }\n",
       "</style>\n",
       "<table border=\"1\" class=\"dataframe\">\n",
       "  <thead>\n",
       "    <tr style=\"text-align: right;\">\n",
       "      <th></th>\n",
       "      <th>category_name</th>\n",
       "      <th>category_id</th>\n",
       "    </tr>\n",
       "  </thead>\n",
       "  <tbody>\n",
       "    <tr>\n",
       "      <th>0</th>\n",
       "      <td>Games</td>\n",
       "      <td>Z-1</td>\n",
       "    </tr>\n",
       "    <tr>\n",
       "      <th>1</th>\n",
       "      <td>Social Networking</td>\n",
       "      <td>Q-5</td>\n",
       "    </tr>\n",
       "    <tr>\n",
       "      <th>2</th>\n",
       "      <td>Utilities</td>\n",
       "      <td>M-7</td>\n",
       "    </tr>\n",
       "    <tr>\n",
       "      <th>3</th>\n",
       "      <td>Entertainment</td>\n",
       "      <td>Q-1</td>\n",
       "    </tr>\n",
       "    <tr>\n",
       "      <th>4</th>\n",
       "      <td>Photos &amp; Videos</td>\n",
       "      <td>Y-8</td>\n",
       "    </tr>\n",
       "  </tbody>\n",
       "</table>\n",
       "</div>"
      ],
      "text/plain": [
       "       category_name category_id\n",
       "0              Games         Z-1\n",
       "1  Social Networking         Q-5\n",
       "2          Utilities         M-7\n",
       "3      Entertainment         Q-1\n",
       "4    Photos & Videos         Y-8"
      ]
     },
     "execution_count": 16,
     "metadata": {},
     "output_type": "execute_result"
    }
   ],
   "source": [
    "# category table \n",
    "df_category"
   ]
  },
  {
   "cell_type": "code",
   "execution_count": 17,
   "id": "e50395ad",
   "metadata": {},
   "outputs": [
    {
     "data": {
      "text/plain": [
       "5"
      ]
     },
     "execution_count": 17,
     "metadata": {},
     "output_type": "execute_result"
    }
   ],
   "source": [
    "len(df_category)"
   ]
  },
  {
   "cell_type": "code",
   "execution_count": 18,
   "id": "b69dea25",
   "metadata": {},
   "outputs": [
    {
     "data": {
      "text/html": [
       "<div>\n",
       "<style scoped>\n",
       "    .dataframe tbody tr th:only-of-type {\n",
       "        vertical-align: middle;\n",
       "    }\n",
       "\n",
       "    .dataframe tbody tr th {\n",
       "        vertical-align: top;\n",
       "    }\n",
       "\n",
       "    .dataframe thead th {\n",
       "        text-align: right;\n",
       "    }\n",
       "</style>\n",
       "<table border=\"1\" class=\"dataframe\">\n",
       "  <thead>\n",
       "    <tr style=\"text-align: right;\">\n",
       "      <th></th>\n",
       "      <th>device_name</th>\n",
       "      <th>device_id</th>\n",
       "    </tr>\n",
       "  </thead>\n",
       "  <tbody>\n",
       "    <tr>\n",
       "      <th>0</th>\n",
       "      <td>iPhone</td>\n",
       "      <td>1</td>\n",
       "    </tr>\n",
       "    <tr>\n",
       "      <th>1</th>\n",
       "      <td>iPad</td>\n",
       "      <td>2</td>\n",
       "    </tr>\n",
       "    <tr>\n",
       "      <th>2</th>\n",
       "      <td>Both</td>\n",
       "      <td>3</td>\n",
       "    </tr>\n",
       "  </tbody>\n",
       "</table>\n",
       "</div>"
      ],
      "text/plain": [
       "  device_name  device_id\n",
       "0      iPhone          1\n",
       "1        iPad          2\n",
       "2        Both          3"
      ]
     },
     "execution_count": 18,
     "metadata": {},
     "output_type": "execute_result"
    }
   ],
   "source": [
    "# device table\n",
    "df_device"
   ]
  },
  {
   "cell_type": "code",
   "execution_count": 19,
   "id": "8051ab25",
   "metadata": {},
   "outputs": [
    {
     "data": {
      "text/plain": [
       "3"
      ]
     },
     "execution_count": 19,
     "metadata": {},
     "output_type": "execute_result"
    }
   ],
   "source": [
    "len(df_device)"
   ]
  },
  {
   "cell_type": "code",
   "execution_count": 20,
   "id": "a7900cf3",
   "metadata": {},
   "outputs": [
    {
     "data": {
      "text/html": [
       "<div>\n",
       "<style scoped>\n",
       "    .dataframe tbody tr th:only-of-type {\n",
       "        vertical-align: middle;\n",
       "    }\n",
       "\n",
       "    .dataframe tbody tr th {\n",
       "        vertical-align: top;\n",
       "    }\n",
       "\n",
       "    .dataframe thead th {\n",
       "        text-align: right;\n",
       "    }\n",
       "</style>\n",
       "<table border=\"1\" class=\"dataframe\">\n",
       "  <thead>\n",
       "    <tr style=\"text-align: right;\">\n",
       "      <th></th>\n",
       "      <th>parent_app_content_id</th>\n",
       "      <th>content_id</th>\n",
       "      <th>type</th>\n",
       "    </tr>\n",
       "  </thead>\n",
       "  <tbody>\n",
       "    <tr>\n",
       "      <th>0</th>\n",
       "      <td>d2bde35599e0dae9</td>\n",
       "      <td>227227a77c59809b</td>\n",
       "      <td>consumable</td>\n",
       "    </tr>\n",
       "    <tr>\n",
       "      <th>1</th>\n",
       "      <td>d2bde35599e0dae9</td>\n",
       "      <td>41ac2362a2600185</td>\n",
       "      <td>consumable</td>\n",
       "    </tr>\n",
       "    <tr>\n",
       "      <th>2</th>\n",
       "      <td>d2bde35599e0dae9</td>\n",
       "      <td>64a8e16f030bb611</td>\n",
       "      <td>consumable</td>\n",
       "    </tr>\n",
       "    <tr>\n",
       "      <th>3</th>\n",
       "      <td>d2bde35599e0dae9</td>\n",
       "      <td>2c8ba424183afa7c</td>\n",
       "      <td>consumable</td>\n",
       "    </tr>\n",
       "    <tr>\n",
       "      <th>4</th>\n",
       "      <td>d2bde35599e0dae9</td>\n",
       "      <td>b4c42fa5cc420f7b</td>\n",
       "      <td>consumable</td>\n",
       "    </tr>\n",
       "  </tbody>\n",
       "</table>\n",
       "</div>"
      ],
      "text/plain": [
       "  parent_app_content_id        content_id        type\n",
       "0      d2bde35599e0dae9  227227a77c59809b  consumable\n",
       "1      d2bde35599e0dae9  41ac2362a2600185  consumable\n",
       "2      d2bde35599e0dae9  64a8e16f030bb611  consumable\n",
       "3      d2bde35599e0dae9  2c8ba424183afa7c  consumable\n",
       "4      d2bde35599e0dae9  b4c42fa5cc420f7b  consumable"
      ]
     },
     "execution_count": 20,
     "metadata": {},
     "output_type": "execute_result"
    }
   ],
   "source": [
    "# in app table\n",
    "df_inapp.head()"
   ]
  },
  {
   "cell_type": "code",
   "execution_count": 21,
   "id": "4ce34bf0",
   "metadata": {},
   "outputs": [
    {
     "data": {
      "text/html": [
       "<div>\n",
       "<style scoped>\n",
       "    .dataframe tbody tr th:only-of-type {\n",
       "        vertical-align: middle;\n",
       "    }\n",
       "\n",
       "    .dataframe tbody tr th {\n",
       "        vertical-align: top;\n",
       "    }\n",
       "\n",
       "    .dataframe thead th {\n",
       "        text-align: right;\n",
       "    }\n",
       "</style>\n",
       "<table border=\"1\" class=\"dataframe\">\n",
       "  <thead>\n",
       "    <tr style=\"text-align: right;\">\n",
       "      <th></th>\n",
       "      <th>parent_app_content_id</th>\n",
       "      <th>content_id</th>\n",
       "      <th>type</th>\n",
       "    </tr>\n",
       "  </thead>\n",
       "  <tbody>\n",
       "    <tr>\n",
       "      <th>count</th>\n",
       "      <td>2376</td>\n",
       "      <td>2376</td>\n",
       "      <td>2376</td>\n",
       "    </tr>\n",
       "    <tr>\n",
       "      <th>unique</th>\n",
       "      <td>476</td>\n",
       "      <td>2376</td>\n",
       "      <td>2</td>\n",
       "    </tr>\n",
       "    <tr>\n",
       "      <th>top</th>\n",
       "      <td>232fdcdc1b5f28fa</td>\n",
       "      <td>d628dfcf0bdfd98c</td>\n",
       "      <td>consumable</td>\n",
       "    </tr>\n",
       "    <tr>\n",
       "      <th>freq</th>\n",
       "      <td>37</td>\n",
       "      <td>1</td>\n",
       "      <td>2107</td>\n",
       "    </tr>\n",
       "  </tbody>\n",
       "</table>\n",
       "</div>"
      ],
      "text/plain": [
       "       parent_app_content_id        content_id        type\n",
       "count                   2376              2376        2376\n",
       "unique                   476              2376           2\n",
       "top         232fdcdc1b5f28fa  d628dfcf0bdfd98c  consumable\n",
       "freq                      37                 1        2107"
      ]
     },
     "execution_count": 21,
     "metadata": {},
     "output_type": "execute_result"
    }
   ],
   "source": [
    "df_inapp.describe()"
   ]
  },
  {
   "cell_type": "code",
   "execution_count": 22,
   "id": "85f314d8",
   "metadata": {},
   "outputs": [
    {
     "data": {
      "text/plain": [
       "consumable      2107\n",
       "subscription     269\n",
       "Name: type, dtype: int64"
      ]
     },
     "execution_count": 22,
     "metadata": {},
     "output_type": "execute_result"
    }
   ],
   "source": [
    "df_inapp['type'].value_counts()"
   ]
  },
  {
   "cell_type": "code",
   "execution_count": 23,
   "id": "3a81e137",
   "metadata": {},
   "outputs": [
    {
     "data": {
      "text/html": [
       "<div>\n",
       "<style scoped>\n",
       "    .dataframe tbody tr th:only-of-type {\n",
       "        vertical-align: middle;\n",
       "    }\n",
       "\n",
       "    .dataframe tbody tr th {\n",
       "        vertical-align: top;\n",
       "    }\n",
       "\n",
       "    .dataframe thead th {\n",
       "        text-align: right;\n",
       "    }\n",
       "</style>\n",
       "<table border=\"1\" class=\"dataframe\">\n",
       "  <thead>\n",
       "    <tr style=\"text-align: right;\">\n",
       "      <th></th>\n",
       "      <th>create_dt</th>\n",
       "      <th>content_id</th>\n",
       "      <th>acct_id</th>\n",
       "      <th>price</th>\n",
       "      <th>device_id</th>\n",
       "    </tr>\n",
       "  </thead>\n",
       "  <tbody>\n",
       "    <tr>\n",
       "      <th>0</th>\n",
       "      <td>2016-08-28</td>\n",
       "      <td>b6cf4f33e7455df4</td>\n",
       "      <td>220574a7a6a71afa</td>\n",
       "      <td>11.99</td>\n",
       "      <td>1</td>\n",
       "    </tr>\n",
       "    <tr>\n",
       "      <th>1</th>\n",
       "      <td>2016-09-16</td>\n",
       "      <td>71ac3e9c38ddbbba</td>\n",
       "      <td>8551f69a5015ea6a</td>\n",
       "      <td>1.99</td>\n",
       "      <td>2</td>\n",
       "    </tr>\n",
       "    <tr>\n",
       "      <th>2</th>\n",
       "      <td>2016-08-15</td>\n",
       "      <td>776b851b916c33d1</td>\n",
       "      <td>7dedf309494a1966</td>\n",
       "      <td>0.99</td>\n",
       "      <td>2</td>\n",
       "    </tr>\n",
       "    <tr>\n",
       "      <th>3</th>\n",
       "      <td>2016-06-17</td>\n",
       "      <td>7a47ca132a8dc695</td>\n",
       "      <td>7174a81c796dcf7e</td>\n",
       "      <td>1.99</td>\n",
       "      <td>2</td>\n",
       "    </tr>\n",
       "    <tr>\n",
       "      <th>4</th>\n",
       "      <td>2016-06-13</td>\n",
       "      <td>30581219bc952dbb</td>\n",
       "      <td>35aaf59d64a677e7</td>\n",
       "      <td>11.99</td>\n",
       "      <td>2</td>\n",
       "    </tr>\n",
       "  </tbody>\n",
       "</table>\n",
       "</div>"
      ],
      "text/plain": [
       "    create_dt        content_id           acct_id  price  device_id\n",
       "0  2016-08-28  b6cf4f33e7455df4  220574a7a6a71afa  11.99          1\n",
       "1  2016-09-16  71ac3e9c38ddbbba  8551f69a5015ea6a   1.99          2\n",
       "2  2016-08-15  776b851b916c33d1  7dedf309494a1966   0.99          2\n",
       "3  2016-06-17  7a47ca132a8dc695  7174a81c796dcf7e   1.99          2\n",
       "4  2016-06-13  30581219bc952dbb  35aaf59d64a677e7  11.99          2"
      ]
     },
     "execution_count": 23,
     "metadata": {},
     "output_type": "execute_result"
    }
   ],
   "source": [
    "# transaction data \n",
    "df_transaction.head()"
   ]
  },
  {
   "cell_type": "code",
   "execution_count": 24,
   "id": "0e4f7375",
   "metadata": {},
   "outputs": [
    {
     "data": {
      "text/html": [
       "<div>\n",
       "<style scoped>\n",
       "    .dataframe tbody tr th:only-of-type {\n",
       "        vertical-align: middle;\n",
       "    }\n",
       "\n",
       "    .dataframe tbody tr th {\n",
       "        vertical-align: top;\n",
       "    }\n",
       "\n",
       "    .dataframe thead th {\n",
       "        text-align: right;\n",
       "    }\n",
       "</style>\n",
       "<table border=\"1\" class=\"dataframe\">\n",
       "  <thead>\n",
       "    <tr style=\"text-align: right;\">\n",
       "      <th></th>\n",
       "      <th>price</th>\n",
       "      <th>device_id</th>\n",
       "    </tr>\n",
       "  </thead>\n",
       "  <tbody>\n",
       "    <tr>\n",
       "      <th>count</th>\n",
       "      <td>3.607509e+06</td>\n",
       "      <td>3.607509e+06</td>\n",
       "    </tr>\n",
       "    <tr>\n",
       "      <th>mean</th>\n",
       "      <td>5.280511e+00</td>\n",
       "      <td>1.275302e+00</td>\n",
       "    </tr>\n",
       "    <tr>\n",
       "      <th>std</th>\n",
       "      <td>6.960452e+00</td>\n",
       "      <td>4.466662e-01</td>\n",
       "    </tr>\n",
       "    <tr>\n",
       "      <th>min</th>\n",
       "      <td>0.000000e+00</td>\n",
       "      <td>1.000000e+00</td>\n",
       "    </tr>\n",
       "    <tr>\n",
       "      <th>25%</th>\n",
       "      <td>0.000000e+00</td>\n",
       "      <td>1.000000e+00</td>\n",
       "    </tr>\n",
       "    <tr>\n",
       "      <th>50%</th>\n",
       "      <td>1.990000e+00</td>\n",
       "      <td>1.000000e+00</td>\n",
       "    </tr>\n",
       "    <tr>\n",
       "      <th>75%</th>\n",
       "      <td>7.990000e+00</td>\n",
       "      <td>2.000000e+00</td>\n",
       "    </tr>\n",
       "    <tr>\n",
       "      <th>max</th>\n",
       "      <td>2.999000e+01</td>\n",
       "      <td>2.000000e+00</td>\n",
       "    </tr>\n",
       "  </tbody>\n",
       "</table>\n",
       "</div>"
      ],
      "text/plain": [
       "              price     device_id\n",
       "count  3.607509e+06  3.607509e+06\n",
       "mean   5.280511e+00  1.275302e+00\n",
       "std    6.960452e+00  4.466662e-01\n",
       "min    0.000000e+00  1.000000e+00\n",
       "25%    0.000000e+00  1.000000e+00\n",
       "50%    1.990000e+00  1.000000e+00\n",
       "75%    7.990000e+00  2.000000e+00\n",
       "max    2.999000e+01  2.000000e+00"
      ]
     },
     "execution_count": 24,
     "metadata": {},
     "output_type": "execute_result"
    }
   ],
   "source": [
    "df_transaction.describe()"
   ]
  },
  {
   "cell_type": "code",
   "execution_count": 25,
   "id": "83b5bdc5",
   "metadata": {},
   "outputs": [
    {
     "name": "stdout",
     "output_type": "stream",
     "text": [
      "<class 'pandas.core.frame.DataFrame'>\n",
      "RangeIndex: 3607509 entries, 0 to 3607508\n",
      "Data columns (total 5 columns):\n",
      " #   Column      Dtype  \n",
      "---  ------      -----  \n",
      " 0   create_dt   object \n",
      " 1   content_id  object \n",
      " 2   acct_id     object \n",
      " 3   price       float64\n",
      " 4   device_id   int64  \n",
      "dtypes: float64(1), int64(1), object(3)\n",
      "memory usage: 137.6+ MB\n"
     ]
    }
   ],
   "source": [
    "df_transaction.info()"
   ]
  },
  {
   "cell_type": "code",
   "execution_count": 26,
   "id": "bfdc3f45",
   "metadata": {},
   "outputs": [
    {
     "data": {
      "text/plain": [
       "create_dt     0\n",
       "content_id    0\n",
       "acct_id       0\n",
       "price         0\n",
       "device_id     0\n",
       "dtype: int64"
      ]
     },
     "execution_count": 26,
     "metadata": {},
     "output_type": "execute_result"
    }
   ],
   "source": [
    "pd.isna(df_transaction).sum()"
   ]
  },
  {
   "cell_type": "code",
   "execution_count": 27,
   "id": "fd36bc71",
   "metadata": {},
   "outputs": [
    {
     "data": {
      "text/plain": [
       "'2016-06-01'"
      ]
     },
     "execution_count": 27,
     "metadata": {},
     "output_type": "execute_result"
    }
   ],
   "source": [
    "min(df_transaction['create_dt'])"
   ]
  },
  {
   "cell_type": "code",
   "execution_count": 28,
   "id": "8795b34f",
   "metadata": {},
   "outputs": [
    {
     "data": {
      "text/plain": [
       "'2016-09-21'"
      ]
     },
     "execution_count": 28,
     "metadata": {},
     "output_type": "execute_result"
    }
   ],
   "source": [
    "max(df_transaction['create_dt'])"
   ]
  },
  {
   "cell_type": "code",
   "execution_count": null,
   "id": "95a03889",
   "metadata": {},
   "outputs": [],
   "source": []
  },
  {
   "cell_type": "markdown",
   "id": "96829222",
   "metadata": {},
   "source": [
    "### Data Manipulation (join raw tables)"
   ]
  },
  {
   "cell_type": "code",
   "execution_count": 29,
   "id": "be8a8411",
   "metadata": {},
   "outputs": [],
   "source": [
    "# change column name \"create_dt\" to \"transaction_dt\" in df_transaction\n",
    "# to avoid same column name with df_account table \n",
    "df_transaction.columns = ['transaction_dt', 'content_id', 'acct_id', 'price', 'device_id']"
   ]
  },
  {
   "cell_type": "code",
   "execution_count": 30,
   "id": "688809ef",
   "metadata": {},
   "outputs": [
    {
     "data": {
      "text/plain": [
       "25"
      ]
     },
     "execution_count": 30,
     "metadata": {},
     "output_type": "execute_result"
    }
   ],
   "source": [
    "# 25 account_id in df_transaction not exist in df_account\n",
    "# In this analysis, these 25 account_id are removed \n",
    "len(set(df_transaction['acct_id']) - set(df_account['acct_id']))"
   ]
  },
  {
   "cell_type": "code",
   "execution_count": 31,
   "id": "7910b599",
   "metadata": {},
   "outputs": [],
   "source": [
    "# Join transaction and account \n",
    "df = pd.merge(df_transaction, df_account, on='acct_id', how='inner')"
   ]
  },
  {
   "cell_type": "code",
   "execution_count": 32,
   "id": "926f119c",
   "metadata": {
    "scrolled": true
   },
   "outputs": [
    {
     "data": {
      "text/html": [
       "<div>\n",
       "<style scoped>\n",
       "    .dataframe tbody tr th:only-of-type {\n",
       "        vertical-align: middle;\n",
       "    }\n",
       "\n",
       "    .dataframe tbody tr th {\n",
       "        vertical-align: top;\n",
       "    }\n",
       "\n",
       "    .dataframe thead th {\n",
       "        text-align: right;\n",
       "    }\n",
       "</style>\n",
       "<table border=\"1\" class=\"dataframe\">\n",
       "  <thead>\n",
       "    <tr style=\"text-align: right;\">\n",
       "      <th></th>\n",
       "      <th>transaction_dt</th>\n",
       "      <th>content_id</th>\n",
       "      <th>acct_id</th>\n",
       "      <th>price</th>\n",
       "      <th>device_id</th>\n",
       "      <th>create_dt</th>\n",
       "      <th>payment_type</th>\n",
       "    </tr>\n",
       "  </thead>\n",
       "  <tbody>\n",
       "    <tr>\n",
       "      <th>0</th>\n",
       "      <td>2016-08-28</td>\n",
       "      <td>b6cf4f33e7455df4</td>\n",
       "      <td>220574a7a6a71afa</td>\n",
       "      <td>11.99</td>\n",
       "      <td>1</td>\n",
       "      <td>8/29/09</td>\n",
       "      <td>PMOF</td>\n",
       "    </tr>\n",
       "    <tr>\n",
       "      <th>1</th>\n",
       "      <td>2016-07-19</td>\n",
       "      <td>4431e62862d98419</td>\n",
       "      <td>220574a7a6a71afa</td>\n",
       "      <td>23.99</td>\n",
       "      <td>1</td>\n",
       "      <td>8/29/09</td>\n",
       "      <td>PMOF</td>\n",
       "    </tr>\n",
       "    <tr>\n",
       "      <th>2</th>\n",
       "      <td>2016-08-08</td>\n",
       "      <td>14f26ecc7ab37e68</td>\n",
       "      <td>220574a7a6a71afa</td>\n",
       "      <td>0.99</td>\n",
       "      <td>1</td>\n",
       "      <td>8/29/09</td>\n",
       "      <td>PMOF</td>\n",
       "    </tr>\n",
       "    <tr>\n",
       "      <th>3</th>\n",
       "      <td>2016-08-20</td>\n",
       "      <td>bb314bdd29e3859b</td>\n",
       "      <td>220574a7a6a71afa</td>\n",
       "      <td>0.99</td>\n",
       "      <td>2</td>\n",
       "      <td>8/29/09</td>\n",
       "      <td>PMOF</td>\n",
       "    </tr>\n",
       "    <tr>\n",
       "      <th>4</th>\n",
       "      <td>2016-09-13</td>\n",
       "      <td>c3f2ef20181b73f6</td>\n",
       "      <td>220574a7a6a71afa</td>\n",
       "      <td>2.99</td>\n",
       "      <td>1</td>\n",
       "      <td>8/29/09</td>\n",
       "      <td>PMOF</td>\n",
       "    </tr>\n",
       "  </tbody>\n",
       "</table>\n",
       "</div>"
      ],
      "text/plain": [
       "  transaction_dt        content_id           acct_id  price  device_id  \\\n",
       "0     2016-08-28  b6cf4f33e7455df4  220574a7a6a71afa  11.99          1   \n",
       "1     2016-07-19  4431e62862d98419  220574a7a6a71afa  23.99          1   \n",
       "2     2016-08-08  14f26ecc7ab37e68  220574a7a6a71afa   0.99          1   \n",
       "3     2016-08-20  bb314bdd29e3859b  220574a7a6a71afa   0.99          2   \n",
       "4     2016-09-13  c3f2ef20181b73f6  220574a7a6a71afa   2.99          1   \n",
       "\n",
       "  create_dt payment_type  \n",
       "0   8/29/09         PMOF  \n",
       "1   8/29/09         PMOF  \n",
       "2   8/29/09         PMOF  \n",
       "3   8/29/09         PMOF  \n",
       "4   8/29/09         PMOF  "
      ]
     },
     "execution_count": 32,
     "metadata": {},
     "output_type": "execute_result"
    }
   ],
   "source": [
    "df.head()"
   ]
  },
  {
   "cell_type": "code",
   "execution_count": 33,
   "id": "f647c4d6",
   "metadata": {},
   "outputs": [
    {
     "data": {
      "text/plain": [
       "1    2614356\n",
       "2     993153\n",
       "Name: device_id, dtype: int64"
      ]
     },
     "execution_count": 33,
     "metadata": {},
     "output_type": "execute_result"
    }
   ],
   "source": [
    "df_transaction['device_id'].value_counts()"
   ]
  },
  {
   "cell_type": "code",
   "execution_count": 34,
   "id": "b6cfe602",
   "metadata": {
    "scrolled": true
   },
   "outputs": [
    {
     "data": {
      "text/html": [
       "<div>\n",
       "<style scoped>\n",
       "    .dataframe tbody tr th:only-of-type {\n",
       "        vertical-align: middle;\n",
       "    }\n",
       "\n",
       "    .dataframe tbody tr th {\n",
       "        vertical-align: top;\n",
       "    }\n",
       "\n",
       "    .dataframe thead th {\n",
       "        text-align: right;\n",
       "    }\n",
       "</style>\n",
       "<table border=\"1\" class=\"dataframe\">\n",
       "  <thead>\n",
       "    <tr style=\"text-align: right;\">\n",
       "      <th></th>\n",
       "      <th>device_name</th>\n",
       "      <th>device_id</th>\n",
       "    </tr>\n",
       "  </thead>\n",
       "  <tbody>\n",
       "    <tr>\n",
       "      <th>0</th>\n",
       "      <td>iPhone</td>\n",
       "      <td>1</td>\n",
       "    </tr>\n",
       "    <tr>\n",
       "      <th>1</th>\n",
       "      <td>iPad</td>\n",
       "      <td>2</td>\n",
       "    </tr>\n",
       "    <tr>\n",
       "      <th>2</th>\n",
       "      <td>Both</td>\n",
       "      <td>3</td>\n",
       "    </tr>\n",
       "  </tbody>\n",
       "</table>\n",
       "</div>"
      ],
      "text/plain": [
       "  device_name  device_id\n",
       "0      iPhone          1\n",
       "1        iPad          2\n",
       "2        Both          3"
      ]
     },
     "execution_count": 34,
     "metadata": {},
     "output_type": "execute_result"
    }
   ],
   "source": [
    "df_device.head()"
   ]
  },
  {
   "cell_type": "code",
   "execution_count": 35,
   "id": "3775f0fd",
   "metadata": {},
   "outputs": [],
   "source": [
    "# Join with df_device \n",
    "df = pd.merge(df, df_device, on='device_id', how='inner')"
   ]
  },
  {
   "cell_type": "code",
   "execution_count": 229,
   "id": "f417d219",
   "metadata": {},
   "outputs": [
    {
     "data": {
      "text/plain": [
       "537"
      ]
     },
     "execution_count": 229,
     "metadata": {},
     "output_type": "execute_result"
    }
   ],
   "source": [
    "# There are 537 content_id in transaction table but not in in-app_dat.csv\n",
    "len(set(df_transaction['content_id']) - set(df_inapp['content_id']))"
   ]
  },
  {
   "cell_type": "code",
   "execution_count": 37,
   "id": "f8ebd7f4",
   "metadata": {},
   "outputs": [
    {
     "data": {
      "text/plain": [
       "537"
      ]
     },
     "execution_count": 37,
     "metadata": {},
     "output_type": "execute_result"
    }
   ],
   "source": [
    "# These content_id exists in app_dat.csv\n",
    "# It means the transaction table includes both in-app purchases and app purchases \n",
    "df_app.loc[df_app['content_id'].isin(set(df_transaction['content_id']) - set(df_inapp['content_id'])),'content_id'].nunique()"
   ]
  },
  {
   "cell_type": "code",
   "execution_count": 38,
   "id": "26df4095",
   "metadata": {},
   "outputs": [],
   "source": [
    "# merge with df_inapp\n",
    "df = pd.merge(df, df_inapp, on='content_id', how='left')"
   ]
  },
  {
   "cell_type": "code",
   "execution_count": 39,
   "id": "ba66c7d0",
   "metadata": {
    "scrolled": true
   },
   "outputs": [
    {
     "data": {
      "text/html": [
       "<div>\n",
       "<style scoped>\n",
       "    .dataframe tbody tr th:only-of-type {\n",
       "        vertical-align: middle;\n",
       "    }\n",
       "\n",
       "    .dataframe tbody tr th {\n",
       "        vertical-align: top;\n",
       "    }\n",
       "\n",
       "    .dataframe thead th {\n",
       "        text-align: right;\n",
       "    }\n",
       "</style>\n",
       "<table border=\"1\" class=\"dataframe\">\n",
       "  <thead>\n",
       "    <tr style=\"text-align: right;\">\n",
       "      <th></th>\n",
       "      <th>transaction_dt</th>\n",
       "      <th>content_id</th>\n",
       "      <th>acct_id</th>\n",
       "      <th>price</th>\n",
       "      <th>device_id</th>\n",
       "      <th>create_dt</th>\n",
       "      <th>payment_type</th>\n",
       "      <th>device_name</th>\n",
       "      <th>parent_app_content_id</th>\n",
       "      <th>type</th>\n",
       "    </tr>\n",
       "  </thead>\n",
       "  <tbody>\n",
       "    <tr>\n",
       "      <th>0</th>\n",
       "      <td>2016-08-28</td>\n",
       "      <td>b6cf4f33e7455df4</td>\n",
       "      <td>220574a7a6a71afa</td>\n",
       "      <td>11.99</td>\n",
       "      <td>1</td>\n",
       "      <td>8/29/09</td>\n",
       "      <td>PMOF</td>\n",
       "      <td>iPhone</td>\n",
       "      <td>61cea77b9bc843d1</td>\n",
       "      <td>subscription</td>\n",
       "    </tr>\n",
       "    <tr>\n",
       "      <th>1</th>\n",
       "      <td>2016-07-19</td>\n",
       "      <td>4431e62862d98419</td>\n",
       "      <td>220574a7a6a71afa</td>\n",
       "      <td>23.99</td>\n",
       "      <td>1</td>\n",
       "      <td>8/29/09</td>\n",
       "      <td>PMOF</td>\n",
       "      <td>iPhone</td>\n",
       "      <td>62bbc9735ee184a4</td>\n",
       "      <td>consumable</td>\n",
       "    </tr>\n",
       "    <tr>\n",
       "      <th>2</th>\n",
       "      <td>2016-08-08</td>\n",
       "      <td>14f26ecc7ab37e68</td>\n",
       "      <td>220574a7a6a71afa</td>\n",
       "      <td>0.99</td>\n",
       "      <td>1</td>\n",
       "      <td>8/29/09</td>\n",
       "      <td>PMOF</td>\n",
       "      <td>iPhone</td>\n",
       "      <td>5070e02253fe2a85</td>\n",
       "      <td>consumable</td>\n",
       "    </tr>\n",
       "    <tr>\n",
       "      <th>3</th>\n",
       "      <td>2016-09-13</td>\n",
       "      <td>c3f2ef20181b73f6</td>\n",
       "      <td>220574a7a6a71afa</td>\n",
       "      <td>2.99</td>\n",
       "      <td>1</td>\n",
       "      <td>8/29/09</td>\n",
       "      <td>PMOF</td>\n",
       "      <td>iPhone</td>\n",
       "      <td>5b0619a92b6465e7</td>\n",
       "      <td>consumable</td>\n",
       "    </tr>\n",
       "    <tr>\n",
       "      <th>4</th>\n",
       "      <td>2016-09-04</td>\n",
       "      <td>326676f4b2e6188d</td>\n",
       "      <td>220574a7a6a71afa</td>\n",
       "      <td>27.99</td>\n",
       "      <td>1</td>\n",
       "      <td>8/29/09</td>\n",
       "      <td>PMOF</td>\n",
       "      <td>iPhone</td>\n",
       "      <td>8a17af073d2b213a</td>\n",
       "      <td>consumable</td>\n",
       "    </tr>\n",
       "  </tbody>\n",
       "</table>\n",
       "</div>"
      ],
      "text/plain": [
       "  transaction_dt        content_id           acct_id  price  device_id  \\\n",
       "0     2016-08-28  b6cf4f33e7455df4  220574a7a6a71afa  11.99          1   \n",
       "1     2016-07-19  4431e62862d98419  220574a7a6a71afa  23.99          1   \n",
       "2     2016-08-08  14f26ecc7ab37e68  220574a7a6a71afa   0.99          1   \n",
       "3     2016-09-13  c3f2ef20181b73f6  220574a7a6a71afa   2.99          1   \n",
       "4     2016-09-04  326676f4b2e6188d  220574a7a6a71afa  27.99          1   \n",
       "\n",
       "  create_dt payment_type device_name parent_app_content_id          type  \n",
       "0   8/29/09         PMOF      iPhone      61cea77b9bc843d1  subscription  \n",
       "1   8/29/09         PMOF      iPhone      62bbc9735ee184a4    consumable  \n",
       "2   8/29/09         PMOF      iPhone      5070e02253fe2a85    consumable  \n",
       "3   8/29/09         PMOF      iPhone      5b0619a92b6465e7    consumable  \n",
       "4   8/29/09         PMOF      iPhone      8a17af073d2b213a    consumable  "
      ]
     },
     "execution_count": 39,
     "metadata": {},
     "output_type": "execute_result"
    }
   ],
   "source": [
    "df.head()"
   ]
  },
  {
   "cell_type": "code",
   "execution_count": 40,
   "id": "f25865f5",
   "metadata": {},
   "outputs": [],
   "source": [
    "# Create a new column 'content_type', if it is a in-app purchase, then give it a value 'inapp'\n",
    "# Otherwise, give it a value 'app'\n",
    "df.loc[pd.notna(df['parent_app_content_id']),'content_type'] = 'inapp'"
   ]
  },
  {
   "cell_type": "code",
   "execution_count": 41,
   "id": "c0865810",
   "metadata": {},
   "outputs": [],
   "source": [
    "# The parent_app_content_id will always be the content_id in the app_dat.csv table\n",
    "# The only difference is if the transaction is a in-app purchase, the 'content_type' column is 'inapp'\n",
    "# If it is an app purchase, the 'content_type' column is 'app'\n",
    "df.loc[pd.isna(df['parent_app_content_id']),'parent_app_content_id'] = df.loc[pd.isna(df['parent_app_content_id']),'content_id']"
   ]
  },
  {
   "cell_type": "code",
   "execution_count": 42,
   "id": "3fb5500f",
   "metadata": {},
   "outputs": [],
   "source": [
    "df.loc[pd.isna(df['content_type']),'content_type'] = 'app'"
   ]
  },
  {
   "cell_type": "code",
   "execution_count": 43,
   "id": "bdd31fcf",
   "metadata": {
    "scrolled": true
   },
   "outputs": [
    {
     "data": {
      "text/html": [
       "<div>\n",
       "<style scoped>\n",
       "    .dataframe tbody tr th:only-of-type {\n",
       "        vertical-align: middle;\n",
       "    }\n",
       "\n",
       "    .dataframe tbody tr th {\n",
       "        vertical-align: top;\n",
       "    }\n",
       "\n",
       "    .dataframe thead th {\n",
       "        text-align: right;\n",
       "    }\n",
       "</style>\n",
       "<table border=\"1\" class=\"dataframe\">\n",
       "  <thead>\n",
       "    <tr style=\"text-align: right;\">\n",
       "      <th></th>\n",
       "      <th>transaction_dt</th>\n",
       "      <th>content_id</th>\n",
       "      <th>acct_id</th>\n",
       "      <th>price</th>\n",
       "      <th>device_id</th>\n",
       "      <th>create_dt</th>\n",
       "      <th>payment_type</th>\n",
       "      <th>device_name</th>\n",
       "      <th>parent_app_content_id</th>\n",
       "      <th>type</th>\n",
       "      <th>content_type</th>\n",
       "    </tr>\n",
       "  </thead>\n",
       "  <tbody>\n",
       "    <tr>\n",
       "      <th>0</th>\n",
       "      <td>2016-08-28</td>\n",
       "      <td>b6cf4f33e7455df4</td>\n",
       "      <td>220574a7a6a71afa</td>\n",
       "      <td>11.99</td>\n",
       "      <td>1</td>\n",
       "      <td>8/29/09</td>\n",
       "      <td>PMOF</td>\n",
       "      <td>iPhone</td>\n",
       "      <td>61cea77b9bc843d1</td>\n",
       "      <td>subscription</td>\n",
       "      <td>inapp</td>\n",
       "    </tr>\n",
       "    <tr>\n",
       "      <th>1</th>\n",
       "      <td>2016-07-19</td>\n",
       "      <td>4431e62862d98419</td>\n",
       "      <td>220574a7a6a71afa</td>\n",
       "      <td>23.99</td>\n",
       "      <td>1</td>\n",
       "      <td>8/29/09</td>\n",
       "      <td>PMOF</td>\n",
       "      <td>iPhone</td>\n",
       "      <td>62bbc9735ee184a4</td>\n",
       "      <td>consumable</td>\n",
       "      <td>inapp</td>\n",
       "    </tr>\n",
       "    <tr>\n",
       "      <th>2</th>\n",
       "      <td>2016-08-08</td>\n",
       "      <td>14f26ecc7ab37e68</td>\n",
       "      <td>220574a7a6a71afa</td>\n",
       "      <td>0.99</td>\n",
       "      <td>1</td>\n",
       "      <td>8/29/09</td>\n",
       "      <td>PMOF</td>\n",
       "      <td>iPhone</td>\n",
       "      <td>5070e02253fe2a85</td>\n",
       "      <td>consumable</td>\n",
       "      <td>inapp</td>\n",
       "    </tr>\n",
       "    <tr>\n",
       "      <th>3</th>\n",
       "      <td>2016-09-13</td>\n",
       "      <td>c3f2ef20181b73f6</td>\n",
       "      <td>220574a7a6a71afa</td>\n",
       "      <td>2.99</td>\n",
       "      <td>1</td>\n",
       "      <td>8/29/09</td>\n",
       "      <td>PMOF</td>\n",
       "      <td>iPhone</td>\n",
       "      <td>5b0619a92b6465e7</td>\n",
       "      <td>consumable</td>\n",
       "      <td>inapp</td>\n",
       "    </tr>\n",
       "    <tr>\n",
       "      <th>4</th>\n",
       "      <td>2016-09-04</td>\n",
       "      <td>326676f4b2e6188d</td>\n",
       "      <td>220574a7a6a71afa</td>\n",
       "      <td>27.99</td>\n",
       "      <td>1</td>\n",
       "      <td>8/29/09</td>\n",
       "      <td>PMOF</td>\n",
       "      <td>iPhone</td>\n",
       "      <td>8a17af073d2b213a</td>\n",
       "      <td>consumable</td>\n",
       "      <td>inapp</td>\n",
       "    </tr>\n",
       "  </tbody>\n",
       "</table>\n",
       "</div>"
      ],
      "text/plain": [
       "  transaction_dt        content_id           acct_id  price  device_id  \\\n",
       "0     2016-08-28  b6cf4f33e7455df4  220574a7a6a71afa  11.99          1   \n",
       "1     2016-07-19  4431e62862d98419  220574a7a6a71afa  23.99          1   \n",
       "2     2016-08-08  14f26ecc7ab37e68  220574a7a6a71afa   0.99          1   \n",
       "3     2016-09-13  c3f2ef20181b73f6  220574a7a6a71afa   2.99          1   \n",
       "4     2016-09-04  326676f4b2e6188d  220574a7a6a71afa  27.99          1   \n",
       "\n",
       "  create_dt payment_type device_name parent_app_content_id          type  \\\n",
       "0   8/29/09         PMOF      iPhone      61cea77b9bc843d1  subscription   \n",
       "1   8/29/09         PMOF      iPhone      62bbc9735ee184a4    consumable   \n",
       "2   8/29/09         PMOF      iPhone      5070e02253fe2a85    consumable   \n",
       "3   8/29/09         PMOF      iPhone      5b0619a92b6465e7    consumable   \n",
       "4   8/29/09         PMOF      iPhone      8a17af073d2b213a    consumable   \n",
       "\n",
       "  content_type  \n",
       "0        inapp  \n",
       "1        inapp  \n",
       "2        inapp  \n",
       "3        inapp  \n",
       "4        inapp  "
      ]
     },
     "execution_count": 43,
     "metadata": {},
     "output_type": "execute_result"
    }
   ],
   "source": [
    "df.head()"
   ]
  },
  {
   "cell_type": "code",
   "execution_count": 44,
   "id": "2bf090a4",
   "metadata": {},
   "outputs": [
    {
     "data": {
      "text/plain": [
       "0"
      ]
     },
     "execution_count": 44,
     "metadata": {},
     "output_type": "execute_result"
    }
   ],
   "source": [
    "pd.isna(df['content_type']).sum()"
   ]
  },
  {
   "cell_type": "code",
   "execution_count": 48,
   "id": "3060f54f",
   "metadata": {},
   "outputs": [
    {
     "data": {
      "text/html": [
       "<div>\n",
       "<style scoped>\n",
       "    .dataframe tbody tr th:only-of-type {\n",
       "        vertical-align: middle;\n",
       "    }\n",
       "\n",
       "    .dataframe tbody tr th {\n",
       "        vertical-align: top;\n",
       "    }\n",
       "\n",
       "    .dataframe thead th {\n",
       "        text-align: right;\n",
       "    }\n",
       "</style>\n",
       "<table border=\"1\" class=\"dataframe\">\n",
       "  <thead>\n",
       "    <tr style=\"text-align: right;\">\n",
       "      <th></th>\n",
       "      <th>app_name</th>\n",
       "      <th>parent_app_content_id</th>\n",
       "      <th>category_id</th>\n",
       "      <th>device_id_app</th>\n",
       "    </tr>\n",
       "  </thead>\n",
       "  <tbody>\n",
       "    <tr>\n",
       "      <th>0</th>\n",
       "      <td>half-slouched having</td>\n",
       "      <td>22dfac9721b899cb</td>\n",
       "      <td>Y-8</td>\n",
       "      <td>3</td>\n",
       "    </tr>\n",
       "    <tr>\n",
       "      <th>1</th>\n",
       "      <td>lift whale-ships</td>\n",
       "      <td>7c645810cd7f166e</td>\n",
       "      <td>M-7</td>\n",
       "      <td>3</td>\n",
       "    </tr>\n",
       "    <tr>\n",
       "      <th>2</th>\n",
       "      <td>mightily community</td>\n",
       "      <td>c495bcb878faffaa</td>\n",
       "      <td>Y-8</td>\n",
       "      <td>2</td>\n",
       "    </tr>\n",
       "    <tr>\n",
       "      <th>3</th>\n",
       "      <td>session: too--shall</td>\n",
       "      <td>4e683dcd461cdd22</td>\n",
       "      <td>Y-8</td>\n",
       "      <td>1</td>\n",
       "    </tr>\n",
       "    <tr>\n",
       "      <th>4</th>\n",
       "      <td>That Zoology</td>\n",
       "      <td>6473dd29a2badbf1</td>\n",
       "      <td>Y-8</td>\n",
       "      <td>3</td>\n",
       "    </tr>\n",
       "  </tbody>\n",
       "</table>\n",
       "</div>"
      ],
      "text/plain": [
       "               app_name parent_app_content_id category_id  device_id_app\n",
       "0  half-slouched having      22dfac9721b899cb         Y-8              3\n",
       "1      lift whale-ships      7c645810cd7f166e         M-7              3\n",
       "2    mightily community      c495bcb878faffaa         Y-8              2\n",
       "3   session: too--shall      4e683dcd461cdd22         Y-8              1\n",
       "4          That Zoology      6473dd29a2badbf1         Y-8              3"
      ]
     },
     "execution_count": 48,
     "metadata": {},
     "output_type": "execute_result"
    }
   ],
   "source": [
    "df_app.head()"
   ]
  },
  {
   "cell_type": "code",
   "execution_count": 49,
   "id": "10af986d",
   "metadata": {},
   "outputs": [],
   "source": [
    "# Change the column names of df_app to avoid name duplication with other tables \n",
    "df_app = df_app.rename(columns = {'app_name':'app_name', \n",
    "                                  'content_id':'parent_app_content_id', \n",
    "                                  'category_id':'category_id', \n",
    "                                  'device_id':'device_id_app'})"
   ]
  },
  {
   "cell_type": "code",
   "execution_count": 50,
   "id": "ecbf8a64",
   "metadata": {
    "scrolled": true
   },
   "outputs": [
    {
     "data": {
      "text/html": [
       "<div>\n",
       "<style scoped>\n",
       "    .dataframe tbody tr th:only-of-type {\n",
       "        vertical-align: middle;\n",
       "    }\n",
       "\n",
       "    .dataframe tbody tr th {\n",
       "        vertical-align: top;\n",
       "    }\n",
       "\n",
       "    .dataframe thead th {\n",
       "        text-align: right;\n",
       "    }\n",
       "</style>\n",
       "<table border=\"1\" class=\"dataframe\">\n",
       "  <thead>\n",
       "    <tr style=\"text-align: right;\">\n",
       "      <th></th>\n",
       "      <th>app_name</th>\n",
       "      <th>parent_app_content_id</th>\n",
       "      <th>category_id</th>\n",
       "      <th>device_id_app</th>\n",
       "    </tr>\n",
       "  </thead>\n",
       "  <tbody>\n",
       "    <tr>\n",
       "      <th>0</th>\n",
       "      <td>half-slouched having</td>\n",
       "      <td>22dfac9721b899cb</td>\n",
       "      <td>Y-8</td>\n",
       "      <td>3</td>\n",
       "    </tr>\n",
       "    <tr>\n",
       "      <th>1</th>\n",
       "      <td>lift whale-ships</td>\n",
       "      <td>7c645810cd7f166e</td>\n",
       "      <td>M-7</td>\n",
       "      <td>3</td>\n",
       "    </tr>\n",
       "    <tr>\n",
       "      <th>2</th>\n",
       "      <td>mightily community</td>\n",
       "      <td>c495bcb878faffaa</td>\n",
       "      <td>Y-8</td>\n",
       "      <td>2</td>\n",
       "    </tr>\n",
       "    <tr>\n",
       "      <th>3</th>\n",
       "      <td>session: too--shall</td>\n",
       "      <td>4e683dcd461cdd22</td>\n",
       "      <td>Y-8</td>\n",
       "      <td>1</td>\n",
       "    </tr>\n",
       "    <tr>\n",
       "      <th>4</th>\n",
       "      <td>That Zoology</td>\n",
       "      <td>6473dd29a2badbf1</td>\n",
       "      <td>Y-8</td>\n",
       "      <td>3</td>\n",
       "    </tr>\n",
       "  </tbody>\n",
       "</table>\n",
       "</div>"
      ],
      "text/plain": [
       "               app_name parent_app_content_id category_id  device_id_app\n",
       "0  half-slouched having      22dfac9721b899cb         Y-8              3\n",
       "1      lift whale-ships      7c645810cd7f166e         M-7              3\n",
       "2    mightily community      c495bcb878faffaa         Y-8              2\n",
       "3   session: too--shall      4e683dcd461cdd22         Y-8              1\n",
       "4          That Zoology      6473dd29a2badbf1         Y-8              3"
      ]
     },
     "execution_count": 50,
     "metadata": {},
     "output_type": "execute_result"
    }
   ],
   "source": [
    "df_app.head()"
   ]
  },
  {
   "cell_type": "code",
   "execution_count": 51,
   "id": "a3251676",
   "metadata": {},
   "outputs": [],
   "source": [
    "# join with df_app\n",
    "df = pd.merge(df, df_app, on='parent_app_content_id', how='inner')"
   ]
  },
  {
   "cell_type": "code",
   "execution_count": 52,
   "id": "db7bf081",
   "metadata": {},
   "outputs": [
    {
     "data": {
      "text/plain": [
       "0"
      ]
     },
     "execution_count": 52,
     "metadata": {},
     "output_type": "execute_result"
    }
   ],
   "source": [
    "pd.isna(df['app_name']).sum()"
   ]
  },
  {
   "cell_type": "code",
   "execution_count": 53,
   "id": "8a965595",
   "metadata": {},
   "outputs": [],
   "source": [
    "# join with df_category\n",
    "df = pd.merge(df, df_category, on='category_id', how='inner')"
   ]
  },
  {
   "cell_type": "code",
   "execution_count": 54,
   "id": "309731a4",
   "metadata": {
    "scrolled": true
   },
   "outputs": [
    {
     "data": {
      "text/html": [
       "<div>\n",
       "<style scoped>\n",
       "    .dataframe tbody tr th:only-of-type {\n",
       "        vertical-align: middle;\n",
       "    }\n",
       "\n",
       "    .dataframe tbody tr th {\n",
       "        vertical-align: top;\n",
       "    }\n",
       "\n",
       "    .dataframe thead th {\n",
       "        text-align: right;\n",
       "    }\n",
       "</style>\n",
       "<table border=\"1\" class=\"dataframe\">\n",
       "  <thead>\n",
       "    <tr style=\"text-align: right;\">\n",
       "      <th></th>\n",
       "      <th>transaction_dt</th>\n",
       "      <th>content_id</th>\n",
       "      <th>acct_id</th>\n",
       "      <th>price</th>\n",
       "      <th>device_id</th>\n",
       "      <th>create_dt</th>\n",
       "      <th>payment_type</th>\n",
       "      <th>device_name</th>\n",
       "      <th>parent_app_content_id</th>\n",
       "      <th>type</th>\n",
       "      <th>content_type</th>\n",
       "      <th>app_name</th>\n",
       "      <th>category_id</th>\n",
       "      <th>device_id_app</th>\n",
       "      <th>category_name</th>\n",
       "    </tr>\n",
       "  </thead>\n",
       "  <tbody>\n",
       "    <tr>\n",
       "      <th>0</th>\n",
       "      <td>2016-08-28</td>\n",
       "      <td>b6cf4f33e7455df4</td>\n",
       "      <td>220574a7a6a71afa</td>\n",
       "      <td>11.99</td>\n",
       "      <td>1</td>\n",
       "      <td>8/29/09</td>\n",
       "      <td>PMOF</td>\n",
       "      <td>iPhone</td>\n",
       "      <td>61cea77b9bc843d1</td>\n",
       "      <td>subscription</td>\n",
       "      <td>inapp</td>\n",
       "      <td>events Bildad's</td>\n",
       "      <td>M-7</td>\n",
       "      <td>3</td>\n",
       "      <td>Utilities</td>\n",
       "    </tr>\n",
       "    <tr>\n",
       "      <th>1</th>\n",
       "      <td>2016-07-11</td>\n",
       "      <td>b6cf4f33e7455df4</td>\n",
       "      <td>363b84800742ffb5</td>\n",
       "      <td>11.99</td>\n",
       "      <td>1</td>\n",
       "      <td>11/5/09</td>\n",
       "      <td>PMOF</td>\n",
       "      <td>iPhone</td>\n",
       "      <td>61cea77b9bc843d1</td>\n",
       "      <td>subscription</td>\n",
       "      <td>inapp</td>\n",
       "      <td>events Bildad's</td>\n",
       "      <td>M-7</td>\n",
       "      <td>3</td>\n",
       "      <td>Utilities</td>\n",
       "    </tr>\n",
       "    <tr>\n",
       "      <th>2</th>\n",
       "      <td>2016-07-20</td>\n",
       "      <td>b6cf4f33e7455df4</td>\n",
       "      <td>6eec3f28d16e345b</td>\n",
       "      <td>11.99</td>\n",
       "      <td>1</td>\n",
       "      <td>8/11/08</td>\n",
       "      <td>PMOF</td>\n",
       "      <td>iPhone</td>\n",
       "      <td>61cea77b9bc843d1</td>\n",
       "      <td>subscription</td>\n",
       "      <td>inapp</td>\n",
       "      <td>events Bildad's</td>\n",
       "      <td>M-7</td>\n",
       "      <td>3</td>\n",
       "      <td>Utilities</td>\n",
       "    </tr>\n",
       "    <tr>\n",
       "      <th>3</th>\n",
       "      <td>2016-08-12</td>\n",
       "      <td>b6cf4f33e7455df4</td>\n",
       "      <td>4690bdd57b0e57ea</td>\n",
       "      <td>11.99</td>\n",
       "      <td>1</td>\n",
       "      <td>10/29/07</td>\n",
       "      <td>PMOF</td>\n",
       "      <td>iPhone</td>\n",
       "      <td>61cea77b9bc843d1</td>\n",
       "      <td>subscription</td>\n",
       "      <td>inapp</td>\n",
       "      <td>events Bildad's</td>\n",
       "      <td>M-7</td>\n",
       "      <td>3</td>\n",
       "      <td>Utilities</td>\n",
       "    </tr>\n",
       "    <tr>\n",
       "      <th>4</th>\n",
       "      <td>2016-06-03</td>\n",
       "      <td>b6cf4f33e7455df4</td>\n",
       "      <td>1431fe11b67a4fce</td>\n",
       "      <td>11.99</td>\n",
       "      <td>1</td>\n",
       "      <td>11/22/12</td>\n",
       "      <td>PMOF</td>\n",
       "      <td>iPhone</td>\n",
       "      <td>61cea77b9bc843d1</td>\n",
       "      <td>subscription</td>\n",
       "      <td>inapp</td>\n",
       "      <td>events Bildad's</td>\n",
       "      <td>M-7</td>\n",
       "      <td>3</td>\n",
       "      <td>Utilities</td>\n",
       "    </tr>\n",
       "  </tbody>\n",
       "</table>\n",
       "</div>"
      ],
      "text/plain": [
       "  transaction_dt        content_id           acct_id  price  device_id  \\\n",
       "0     2016-08-28  b6cf4f33e7455df4  220574a7a6a71afa  11.99          1   \n",
       "1     2016-07-11  b6cf4f33e7455df4  363b84800742ffb5  11.99          1   \n",
       "2     2016-07-20  b6cf4f33e7455df4  6eec3f28d16e345b  11.99          1   \n",
       "3     2016-08-12  b6cf4f33e7455df4  4690bdd57b0e57ea  11.99          1   \n",
       "4     2016-06-03  b6cf4f33e7455df4  1431fe11b67a4fce  11.99          1   \n",
       "\n",
       "  create_dt payment_type device_name parent_app_content_id          type  \\\n",
       "0   8/29/09         PMOF      iPhone      61cea77b9bc843d1  subscription   \n",
       "1   11/5/09         PMOF      iPhone      61cea77b9bc843d1  subscription   \n",
       "2   8/11/08         PMOF      iPhone      61cea77b9bc843d1  subscription   \n",
       "3  10/29/07         PMOF      iPhone      61cea77b9bc843d1  subscription   \n",
       "4  11/22/12         PMOF      iPhone      61cea77b9bc843d1  subscription   \n",
       "\n",
       "  content_type         app_name category_id  device_id_app category_name  \n",
       "0        inapp  events Bildad's         M-7              3     Utilities  \n",
       "1        inapp  events Bildad's         M-7              3     Utilities  \n",
       "2        inapp  events Bildad's         M-7              3     Utilities  \n",
       "3        inapp  events Bildad's         M-7              3     Utilities  \n",
       "4        inapp  events Bildad's         M-7              3     Utilities  "
      ]
     },
     "execution_count": 54,
     "metadata": {},
     "output_type": "execute_result"
    }
   ],
   "source": [
    "df.head()"
   ]
  },
  {
   "cell_type": "code",
   "execution_count": 55,
   "id": "27de08a8",
   "metadata": {},
   "outputs": [
    {
     "data": {
      "text/plain": [
       "0"
      ]
     },
     "execution_count": 55,
     "metadata": {},
     "output_type": "execute_result"
    }
   ],
   "source": [
    "pd.isna(df['category_name']).sum()"
   ]
  },
  {
   "cell_type": "code",
   "execution_count": 56,
   "id": "1cb25714",
   "metadata": {},
   "outputs": [],
   "source": [
    "# Export merged tables to a csv file for visualization\n",
    "df.to_csv('data_cleaned.csv')"
   ]
  },
  {
   "cell_type": "code",
   "execution_count": null,
   "id": "d0e72725",
   "metadata": {},
   "outputs": [],
   "source": []
  },
  {
   "cell_type": "markdown",
   "id": "95d3c54d",
   "metadata": {},
   "source": [
    "### Analysis"
   ]
  },
  {
   "cell_type": "code",
   "execution_count": 57,
   "id": "1585b2f8",
   "metadata": {},
   "outputs": [],
   "source": [
    "# calculate revenue by category "
   ]
  },
  {
   "cell_type": "code",
   "execution_count": 58,
   "id": "25ba49e6",
   "metadata": {},
   "outputs": [],
   "source": [
    "df_by_category = df.groupby('category_name')['price'].sum().reset_index()"
   ]
  },
  {
   "cell_type": "code",
   "execution_count": 59,
   "id": "ea7b3fc3",
   "metadata": {},
   "outputs": [
    {
     "data": {
      "text/html": [
       "<div>\n",
       "<style scoped>\n",
       "    .dataframe tbody tr th:only-of-type {\n",
       "        vertical-align: middle;\n",
       "    }\n",
       "\n",
       "    .dataframe tbody tr th {\n",
       "        vertical-align: top;\n",
       "    }\n",
       "\n",
       "    .dataframe thead th {\n",
       "        text-align: right;\n",
       "    }\n",
       "</style>\n",
       "<table border=\"1\" class=\"dataframe\">\n",
       "  <thead>\n",
       "    <tr style=\"text-align: right;\">\n",
       "      <th></th>\n",
       "      <th>category_name</th>\n",
       "      <th>price</th>\n",
       "    </tr>\n",
       "  </thead>\n",
       "  <tbody>\n",
       "    <tr>\n",
       "      <th>0</th>\n",
       "      <td>Entertainment</td>\n",
       "      <td>1.396637e+06</td>\n",
       "    </tr>\n",
       "    <tr>\n",
       "      <th>1</th>\n",
       "      <td>Games</td>\n",
       "      <td>1.225983e+07</td>\n",
       "    </tr>\n",
       "    <tr>\n",
       "      <th>2</th>\n",
       "      <td>Photos &amp; Videos</td>\n",
       "      <td>3.419505e+06</td>\n",
       "    </tr>\n",
       "    <tr>\n",
       "      <th>3</th>\n",
       "      <td>Social Networking</td>\n",
       "      <td>6.255737e+05</td>\n",
       "    </tr>\n",
       "    <tr>\n",
       "      <th>4</th>\n",
       "      <td>Utilities</td>\n",
       "      <td>1.335764e+06</td>\n",
       "    </tr>\n",
       "  </tbody>\n",
       "</table>\n",
       "</div>"
      ],
      "text/plain": [
       "       category_name         price\n",
       "0      Entertainment  1.396637e+06\n",
       "1              Games  1.225983e+07\n",
       "2    Photos & Videos  3.419505e+06\n",
       "3  Social Networking  6.255737e+05\n",
       "4          Utilities  1.335764e+06"
      ]
     },
     "execution_count": 59,
     "metadata": {},
     "output_type": "execute_result"
    }
   ],
   "source": [
    "df_by_category"
   ]
  },
  {
   "cell_type": "code",
   "execution_count": 60,
   "id": "4c4a22e4",
   "metadata": {},
   "outputs": [
    {
     "data": {
      "text/plain": [
       "1    0.64399\n",
       "Name: price, dtype: float64"
      ]
     },
     "execution_count": 60,
     "metadata": {},
     "output_type": "execute_result"
    }
   ],
   "source": [
    "# calculate % of revenue from games category \n",
    "df_by_category.loc[df_by_category['category_name'] == 'Games', 'price'] /  df_by_category['price'].sum()"
   ]
  },
  {
   "cell_type": "code",
   "execution_count": 61,
   "id": "a8b03316",
   "metadata": {},
   "outputs": [
    {
     "data": {
      "text/plain": [
       "'2016-06-01'"
      ]
     },
     "execution_count": 61,
     "metadata": {},
     "output_type": "execute_result"
    }
   ],
   "source": [
    "# min transaction date\n",
    "df['transaction_dt'].min()"
   ]
  },
  {
   "cell_type": "code",
   "execution_count": 62,
   "id": "08322ee4",
   "metadata": {},
   "outputs": [
    {
     "data": {
      "text/plain": [
       "'2016-09-21'"
      ]
     },
     "execution_count": 62,
     "metadata": {},
     "output_type": "execute_result"
    }
   ],
   "source": [
    "# max transaction date \n",
    "df['transaction_dt'].max()"
   ]
  },
  {
   "cell_type": "code",
   "execution_count": 63,
   "id": "e37ef234",
   "metadata": {},
   "outputs": [],
   "source": [
    "# change column transaction_dt to datetime\n",
    "# create a new column transaction_weekday for day of week \n",
    "df['transaction_dt'] = pd.to_datetime(df['transaction_dt'])\n",
    "df['transaction_weekday'] = df['transaction_dt'].dt.day_name()"
   ]
  },
  {
   "cell_type": "code",
   "execution_count": 64,
   "id": "b0316074",
   "metadata": {
    "scrolled": true
   },
   "outputs": [
    {
     "data": {
      "text/html": [
       "<div>\n",
       "<style scoped>\n",
       "    .dataframe tbody tr th:only-of-type {\n",
       "        vertical-align: middle;\n",
       "    }\n",
       "\n",
       "    .dataframe tbody tr th {\n",
       "        vertical-align: top;\n",
       "    }\n",
       "\n",
       "    .dataframe thead th {\n",
       "        text-align: right;\n",
       "    }\n",
       "</style>\n",
       "<table border=\"1\" class=\"dataframe\">\n",
       "  <thead>\n",
       "    <tr style=\"text-align: right;\">\n",
       "      <th></th>\n",
       "      <th>transaction_dt</th>\n",
       "      <th>content_id</th>\n",
       "      <th>acct_id</th>\n",
       "      <th>price</th>\n",
       "      <th>device_id</th>\n",
       "      <th>create_dt</th>\n",
       "      <th>payment_type</th>\n",
       "      <th>device_name</th>\n",
       "      <th>parent_app_content_id</th>\n",
       "      <th>type</th>\n",
       "      <th>content_type</th>\n",
       "      <th>app_name</th>\n",
       "      <th>category_id</th>\n",
       "      <th>device_id_app</th>\n",
       "      <th>category_name</th>\n",
       "      <th>transaction_weekday</th>\n",
       "    </tr>\n",
       "  </thead>\n",
       "  <tbody>\n",
       "    <tr>\n",
       "      <th>0</th>\n",
       "      <td>2016-08-28</td>\n",
       "      <td>b6cf4f33e7455df4</td>\n",
       "      <td>220574a7a6a71afa</td>\n",
       "      <td>11.99</td>\n",
       "      <td>1</td>\n",
       "      <td>8/29/09</td>\n",
       "      <td>PMOF</td>\n",
       "      <td>iPhone</td>\n",
       "      <td>61cea77b9bc843d1</td>\n",
       "      <td>subscription</td>\n",
       "      <td>inapp</td>\n",
       "      <td>events Bildad's</td>\n",
       "      <td>M-7</td>\n",
       "      <td>3</td>\n",
       "      <td>Utilities</td>\n",
       "      <td>Sunday</td>\n",
       "    </tr>\n",
       "    <tr>\n",
       "      <th>1</th>\n",
       "      <td>2016-07-11</td>\n",
       "      <td>b6cf4f33e7455df4</td>\n",
       "      <td>363b84800742ffb5</td>\n",
       "      <td>11.99</td>\n",
       "      <td>1</td>\n",
       "      <td>11/5/09</td>\n",
       "      <td>PMOF</td>\n",
       "      <td>iPhone</td>\n",
       "      <td>61cea77b9bc843d1</td>\n",
       "      <td>subscription</td>\n",
       "      <td>inapp</td>\n",
       "      <td>events Bildad's</td>\n",
       "      <td>M-7</td>\n",
       "      <td>3</td>\n",
       "      <td>Utilities</td>\n",
       "      <td>Monday</td>\n",
       "    </tr>\n",
       "    <tr>\n",
       "      <th>2</th>\n",
       "      <td>2016-07-20</td>\n",
       "      <td>b6cf4f33e7455df4</td>\n",
       "      <td>6eec3f28d16e345b</td>\n",
       "      <td>11.99</td>\n",
       "      <td>1</td>\n",
       "      <td>8/11/08</td>\n",
       "      <td>PMOF</td>\n",
       "      <td>iPhone</td>\n",
       "      <td>61cea77b9bc843d1</td>\n",
       "      <td>subscription</td>\n",
       "      <td>inapp</td>\n",
       "      <td>events Bildad's</td>\n",
       "      <td>M-7</td>\n",
       "      <td>3</td>\n",
       "      <td>Utilities</td>\n",
       "      <td>Wednesday</td>\n",
       "    </tr>\n",
       "    <tr>\n",
       "      <th>3</th>\n",
       "      <td>2016-08-12</td>\n",
       "      <td>b6cf4f33e7455df4</td>\n",
       "      <td>4690bdd57b0e57ea</td>\n",
       "      <td>11.99</td>\n",
       "      <td>1</td>\n",
       "      <td>10/29/07</td>\n",
       "      <td>PMOF</td>\n",
       "      <td>iPhone</td>\n",
       "      <td>61cea77b9bc843d1</td>\n",
       "      <td>subscription</td>\n",
       "      <td>inapp</td>\n",
       "      <td>events Bildad's</td>\n",
       "      <td>M-7</td>\n",
       "      <td>3</td>\n",
       "      <td>Utilities</td>\n",
       "      <td>Friday</td>\n",
       "    </tr>\n",
       "    <tr>\n",
       "      <th>4</th>\n",
       "      <td>2016-06-03</td>\n",
       "      <td>b6cf4f33e7455df4</td>\n",
       "      <td>1431fe11b67a4fce</td>\n",
       "      <td>11.99</td>\n",
       "      <td>1</td>\n",
       "      <td>11/22/12</td>\n",
       "      <td>PMOF</td>\n",
       "      <td>iPhone</td>\n",
       "      <td>61cea77b9bc843d1</td>\n",
       "      <td>subscription</td>\n",
       "      <td>inapp</td>\n",
       "      <td>events Bildad's</td>\n",
       "      <td>M-7</td>\n",
       "      <td>3</td>\n",
       "      <td>Utilities</td>\n",
       "      <td>Friday</td>\n",
       "    </tr>\n",
       "  </tbody>\n",
       "</table>\n",
       "</div>"
      ],
      "text/plain": [
       "  transaction_dt        content_id           acct_id  price  device_id  \\\n",
       "0     2016-08-28  b6cf4f33e7455df4  220574a7a6a71afa  11.99          1   \n",
       "1     2016-07-11  b6cf4f33e7455df4  363b84800742ffb5  11.99          1   \n",
       "2     2016-07-20  b6cf4f33e7455df4  6eec3f28d16e345b  11.99          1   \n",
       "3     2016-08-12  b6cf4f33e7455df4  4690bdd57b0e57ea  11.99          1   \n",
       "4     2016-06-03  b6cf4f33e7455df4  1431fe11b67a4fce  11.99          1   \n",
       "\n",
       "  create_dt payment_type device_name parent_app_content_id          type  \\\n",
       "0   8/29/09         PMOF      iPhone      61cea77b9bc843d1  subscription   \n",
       "1   11/5/09         PMOF      iPhone      61cea77b9bc843d1  subscription   \n",
       "2   8/11/08         PMOF      iPhone      61cea77b9bc843d1  subscription   \n",
       "3  10/29/07         PMOF      iPhone      61cea77b9bc843d1  subscription   \n",
       "4  11/22/12         PMOF      iPhone      61cea77b9bc843d1  subscription   \n",
       "\n",
       "  content_type         app_name category_id  device_id_app category_name  \\\n",
       "0        inapp  events Bildad's         M-7              3     Utilities   \n",
       "1        inapp  events Bildad's         M-7              3     Utilities   \n",
       "2        inapp  events Bildad's         M-7              3     Utilities   \n",
       "3        inapp  events Bildad's         M-7              3     Utilities   \n",
       "4        inapp  events Bildad's         M-7              3     Utilities   \n",
       "\n",
       "  transaction_weekday  \n",
       "0              Sunday  \n",
       "1              Monday  \n",
       "2           Wednesday  \n",
       "3              Friday  \n",
       "4              Friday  "
      ]
     },
     "execution_count": 64,
     "metadata": {},
     "output_type": "execute_result"
    }
   ],
   "source": [
    "df.head()"
   ]
  },
  {
   "cell_type": "code",
   "execution_count": 65,
   "id": "3fa22791",
   "metadata": {},
   "outputs": [],
   "source": [
    "# calculate revenue by date \n",
    "revenue_by_date = df.groupby('transaction_dt')['price'].sum().reset_index()"
   ]
  },
  {
   "cell_type": "code",
   "execution_count": 66,
   "id": "3b8bff55",
   "metadata": {
    "scrolled": true
   },
   "outputs": [
    {
     "data": {
      "text/html": [
       "<div>\n",
       "<style scoped>\n",
       "    .dataframe tbody tr th:only-of-type {\n",
       "        vertical-align: middle;\n",
       "    }\n",
       "\n",
       "    .dataframe tbody tr th {\n",
       "        vertical-align: top;\n",
       "    }\n",
       "\n",
       "    .dataframe thead th {\n",
       "        text-align: right;\n",
       "    }\n",
       "</style>\n",
       "<table border=\"1\" class=\"dataframe\">\n",
       "  <thead>\n",
       "    <tr style=\"text-align: right;\">\n",
       "      <th></th>\n",
       "      <th>transaction_dt</th>\n",
       "      <th>price</th>\n",
       "    </tr>\n",
       "  </thead>\n",
       "  <tbody>\n",
       "    <tr>\n",
       "      <th>0</th>\n",
       "      <td>2016-06-01</td>\n",
       "      <td>169054.90</td>\n",
       "    </tr>\n",
       "    <tr>\n",
       "      <th>1</th>\n",
       "      <td>2016-06-02</td>\n",
       "      <td>167704.90</td>\n",
       "    </tr>\n",
       "    <tr>\n",
       "      <th>2</th>\n",
       "      <td>2016-06-03</td>\n",
       "      <td>169001.35</td>\n",
       "    </tr>\n",
       "    <tr>\n",
       "      <th>3</th>\n",
       "      <td>2016-06-04</td>\n",
       "      <td>179747.83</td>\n",
       "    </tr>\n",
       "    <tr>\n",
       "      <th>4</th>\n",
       "      <td>2016-06-05</td>\n",
       "      <td>182006.15</td>\n",
       "    </tr>\n",
       "    <tr>\n",
       "      <th>...</th>\n",
       "      <td>...</td>\n",
       "      <td>...</td>\n",
       "    </tr>\n",
       "    <tr>\n",
       "      <th>105</th>\n",
       "      <td>2016-09-17</td>\n",
       "      <td>181764.70</td>\n",
       "    </tr>\n",
       "    <tr>\n",
       "      <th>106</th>\n",
       "      <td>2016-09-18</td>\n",
       "      <td>182206.94</td>\n",
       "    </tr>\n",
       "    <tr>\n",
       "      <th>107</th>\n",
       "      <td>2016-09-19</td>\n",
       "      <td>170011.85</td>\n",
       "    </tr>\n",
       "    <tr>\n",
       "      <th>108</th>\n",
       "      <td>2016-09-20</td>\n",
       "      <td>167154.59</td>\n",
       "    </tr>\n",
       "    <tr>\n",
       "      <th>109</th>\n",
       "      <td>2016-09-21</td>\n",
       "      <td>169329.67</td>\n",
       "    </tr>\n",
       "  </tbody>\n",
       "</table>\n",
       "<p>110 rows × 2 columns</p>\n",
       "</div>"
      ],
      "text/plain": [
       "    transaction_dt      price\n",
       "0       2016-06-01  169054.90\n",
       "1       2016-06-02  167704.90\n",
       "2       2016-06-03  169001.35\n",
       "3       2016-06-04  179747.83\n",
       "4       2016-06-05  182006.15\n",
       "..             ...        ...\n",
       "105     2016-09-17  181764.70\n",
       "106     2016-09-18  182206.94\n",
       "107     2016-09-19  170011.85\n",
       "108     2016-09-20  167154.59\n",
       "109     2016-09-21  169329.67\n",
       "\n",
       "[110 rows x 2 columns]"
      ]
     },
     "execution_count": 66,
     "metadata": {},
     "output_type": "execute_result"
    }
   ],
   "source": [
    "revenue_by_date"
   ]
  },
  {
   "cell_type": "code",
   "execution_count": 67,
   "id": "41160b12",
   "metadata": {},
   "outputs": [],
   "source": [
    "revenue_by_date['transaction_weekday'] = revenue_by_date['transaction_dt'].dt.day_name()"
   ]
  },
  {
   "cell_type": "code",
   "execution_count": 68,
   "id": "54d43e6b",
   "metadata": {},
   "outputs": [
    {
     "data": {
      "text/html": [
       "<div>\n",
       "<style scoped>\n",
       "    .dataframe tbody tr th:only-of-type {\n",
       "        vertical-align: middle;\n",
       "    }\n",
       "\n",
       "    .dataframe tbody tr th {\n",
       "        vertical-align: top;\n",
       "    }\n",
       "\n",
       "    .dataframe thead th {\n",
       "        text-align: right;\n",
       "    }\n",
       "</style>\n",
       "<table border=\"1\" class=\"dataframe\">\n",
       "  <thead>\n",
       "    <tr style=\"text-align: right;\">\n",
       "      <th></th>\n",
       "      <th>transaction_dt</th>\n",
       "      <th>price</th>\n",
       "      <th>transaction_weekday</th>\n",
       "    </tr>\n",
       "  </thead>\n",
       "  <tbody>\n",
       "    <tr>\n",
       "      <th>0</th>\n",
       "      <td>2016-06-01</td>\n",
       "      <td>169054.90</td>\n",
       "      <td>Wednesday</td>\n",
       "    </tr>\n",
       "    <tr>\n",
       "      <th>1</th>\n",
       "      <td>2016-06-02</td>\n",
       "      <td>167704.90</td>\n",
       "      <td>Thursday</td>\n",
       "    </tr>\n",
       "    <tr>\n",
       "      <th>2</th>\n",
       "      <td>2016-06-03</td>\n",
       "      <td>169001.35</td>\n",
       "      <td>Friday</td>\n",
       "    </tr>\n",
       "    <tr>\n",
       "      <th>3</th>\n",
       "      <td>2016-06-04</td>\n",
       "      <td>179747.83</td>\n",
       "      <td>Saturday</td>\n",
       "    </tr>\n",
       "    <tr>\n",
       "      <th>4</th>\n",
       "      <td>2016-06-05</td>\n",
       "      <td>182006.15</td>\n",
       "      <td>Sunday</td>\n",
       "    </tr>\n",
       "    <tr>\n",
       "      <th>...</th>\n",
       "      <td>...</td>\n",
       "      <td>...</td>\n",
       "      <td>...</td>\n",
       "    </tr>\n",
       "    <tr>\n",
       "      <th>105</th>\n",
       "      <td>2016-09-17</td>\n",
       "      <td>181764.70</td>\n",
       "      <td>Saturday</td>\n",
       "    </tr>\n",
       "    <tr>\n",
       "      <th>106</th>\n",
       "      <td>2016-09-18</td>\n",
       "      <td>182206.94</td>\n",
       "      <td>Sunday</td>\n",
       "    </tr>\n",
       "    <tr>\n",
       "      <th>107</th>\n",
       "      <td>2016-09-19</td>\n",
       "      <td>170011.85</td>\n",
       "      <td>Monday</td>\n",
       "    </tr>\n",
       "    <tr>\n",
       "      <th>108</th>\n",
       "      <td>2016-09-20</td>\n",
       "      <td>167154.59</td>\n",
       "      <td>Tuesday</td>\n",
       "    </tr>\n",
       "    <tr>\n",
       "      <th>109</th>\n",
       "      <td>2016-09-21</td>\n",
       "      <td>169329.67</td>\n",
       "      <td>Wednesday</td>\n",
       "    </tr>\n",
       "  </tbody>\n",
       "</table>\n",
       "<p>110 rows × 3 columns</p>\n",
       "</div>"
      ],
      "text/plain": [
       "    transaction_dt      price transaction_weekday\n",
       "0       2016-06-01  169054.90           Wednesday\n",
       "1       2016-06-02  167704.90            Thursday\n",
       "2       2016-06-03  169001.35              Friday\n",
       "3       2016-06-04  179747.83            Saturday\n",
       "4       2016-06-05  182006.15              Sunday\n",
       "..             ...        ...                 ...\n",
       "105     2016-09-17  181764.70            Saturday\n",
       "106     2016-09-18  182206.94              Sunday\n",
       "107     2016-09-19  170011.85              Monday\n",
       "108     2016-09-20  167154.59             Tuesday\n",
       "109     2016-09-21  169329.67           Wednesday\n",
       "\n",
       "[110 rows x 3 columns]"
      ]
     },
     "execution_count": 68,
     "metadata": {},
     "output_type": "execute_result"
    }
   ],
   "source": [
    "revenue_by_date"
   ]
  },
  {
   "cell_type": "code",
   "execution_count": 69,
   "id": "fd64cad2",
   "metadata": {},
   "outputs": [],
   "source": [
    "# Export revenue_by_date table to a csv file for visualization\n",
    "revenue_by_date.to_csv('revenue_by_date.csv')"
   ]
  },
  {
   "cell_type": "code",
   "execution_count": null,
   "id": "20763ea4",
   "metadata": {},
   "outputs": [],
   "source": []
  },
  {
   "cell_type": "code",
   "execution_count": 71,
   "id": "c7773283",
   "metadata": {},
   "outputs": [],
   "source": [
    "# calculate weekend daily revenue\n",
    "daily_revenue_weekend = revenue_by_date.loc[revenue_by_date['transaction_weekday'].isin(['Saturday','Sunday']), 'price'].mean()"
   ]
  },
  {
   "cell_type": "code",
   "execution_count": 72,
   "id": "632bba20",
   "metadata": {},
   "outputs": [],
   "source": [
    "# calculate weekday daily revenue\n",
    "daily_revenue_weekday = revenue_by_date.loc[~revenue_by_date['transaction_weekday'].isin(['Saturday','Sunday']), 'price'].mean()"
   ]
  },
  {
   "cell_type": "code",
   "execution_count": 73,
   "id": "13db863c",
   "metadata": {},
   "outputs": [
    {
     "data": {
      "text/plain": [
       "181393.56812495377"
      ]
     },
     "execution_count": 73,
     "metadata": {},
     "output_type": "execute_result"
    }
   ],
   "source": [
    "daily_revenue_weekend "
   ]
  },
  {
   "cell_type": "code",
   "execution_count": 74,
   "id": "11637817",
   "metadata": {},
   "outputs": [
    {
     "data": {
      "text/plain": [
       "169650.1675640764"
      ]
     },
     "execution_count": 74,
     "metadata": {},
     "output_type": "execute_result"
    }
   ],
   "source": [
    "daily_revenue_weekday"
   ]
  },
  {
   "cell_type": "code",
   "execution_count": 75,
   "id": "288cb464",
   "metadata": {},
   "outputs": [
    {
     "data": {
      "text/plain": [
       "0.06922127298484348"
      ]
     },
     "execution_count": 75,
     "metadata": {},
     "output_type": "execute_result"
    }
   ],
   "source": [
    "# calculate relative difference between daily weekly and weekend revenue\n",
    "(daily_revenue_weekend - daily_revenue_weekday) / daily_revenue_weekday"
   ]
  },
  {
   "cell_type": "code",
   "execution_count": null,
   "id": "1359e3ef",
   "metadata": {},
   "outputs": [],
   "source": []
  },
  {
   "cell_type": "code",
   "execution_count": 76,
   "id": "bccd4eb2",
   "metadata": {},
   "outputs": [],
   "source": [
    "# Check the daily revenue outlier identified on Tableau chart- 2016-07-04 \n",
    "revenue_by_date_all = df.groupby('transaction_dt')['price'].agg(['sum','count']).reset_index()"
   ]
  },
  {
   "cell_type": "code",
   "execution_count": 77,
   "id": "fde0be4c",
   "metadata": {},
   "outputs": [],
   "source": [
    "revenue_by_date_all['revenue_per_transaction'] = revenue_by_date_all['sum'] / revenue_by_date_all['count']"
   ]
  },
  {
   "cell_type": "code",
   "execution_count": 78,
   "id": "552fcdf0",
   "metadata": {
    "scrolled": true
   },
   "outputs": [
    {
     "data": {
      "text/html": [
       "<div>\n",
       "<style scoped>\n",
       "    .dataframe tbody tr th:only-of-type {\n",
       "        vertical-align: middle;\n",
       "    }\n",
       "\n",
       "    .dataframe tbody tr th {\n",
       "        vertical-align: top;\n",
       "    }\n",
       "\n",
       "    .dataframe thead th {\n",
       "        text-align: right;\n",
       "    }\n",
       "</style>\n",
       "<table border=\"1\" class=\"dataframe\">\n",
       "  <thead>\n",
       "    <tr style=\"text-align: right;\">\n",
       "      <th></th>\n",
       "      <th>transaction_dt</th>\n",
       "      <th>sum</th>\n",
       "      <th>count</th>\n",
       "      <th>revenue_per_transaction</th>\n",
       "    </tr>\n",
       "  </thead>\n",
       "  <tbody>\n",
       "    <tr>\n",
       "      <th>33</th>\n",
       "      <td>2016-07-04</td>\n",
       "      <td>216196.76</td>\n",
       "      <td>36888</td>\n",
       "      <td>5.860897</td>\n",
       "    </tr>\n",
       "    <tr>\n",
       "      <th>17</th>\n",
       "      <td>2016-06-18</td>\n",
       "      <td>180624.31</td>\n",
       "      <td>32269</td>\n",
       "      <td>5.597456</td>\n",
       "    </tr>\n",
       "    <tr>\n",
       "      <th>4</th>\n",
       "      <td>2016-06-05</td>\n",
       "      <td>182006.15</td>\n",
       "      <td>32681</td>\n",
       "      <td>5.569173</td>\n",
       "    </tr>\n",
       "    <tr>\n",
       "      <th>25</th>\n",
       "      <td>2016-06-26</td>\n",
       "      <td>181809.44</td>\n",
       "      <td>32653</td>\n",
       "      <td>5.567925</td>\n",
       "    </tr>\n",
       "    <tr>\n",
       "      <th>24</th>\n",
       "      <td>2016-06-25</td>\n",
       "      <td>181276.39</td>\n",
       "      <td>32582</td>\n",
       "      <td>5.563697</td>\n",
       "    </tr>\n",
       "    <tr>\n",
       "      <th>...</th>\n",
       "      <td>...</td>\n",
       "      <td>...</td>\n",
       "      <td>...</td>\n",
       "      <td>...</td>\n",
       "    </tr>\n",
       "    <tr>\n",
       "      <th>107</th>\n",
       "      <td>2016-09-19</td>\n",
       "      <td>170011.85</td>\n",
       "      <td>33836</td>\n",
       "      <td>5.024585</td>\n",
       "    </tr>\n",
       "    <tr>\n",
       "      <th>108</th>\n",
       "      <td>2016-09-20</td>\n",
       "      <td>167154.59</td>\n",
       "      <td>33330</td>\n",
       "      <td>5.015139</td>\n",
       "    </tr>\n",
       "    <tr>\n",
       "      <th>103</th>\n",
       "      <td>2016-09-15</td>\n",
       "      <td>167061.33</td>\n",
       "      <td>33470</td>\n",
       "      <td>4.991375</td>\n",
       "    </tr>\n",
       "    <tr>\n",
       "      <th>100</th>\n",
       "      <td>2016-09-12</td>\n",
       "      <td>166165.72</td>\n",
       "      <td>33294</td>\n",
       "      <td>4.990861</td>\n",
       "    </tr>\n",
       "    <tr>\n",
       "      <th>97</th>\n",
       "      <td>2016-09-09</td>\n",
       "      <td>167464.01</td>\n",
       "      <td>33613</td>\n",
       "      <td>4.982120</td>\n",
       "    </tr>\n",
       "  </tbody>\n",
       "</table>\n",
       "<p>110 rows × 4 columns</p>\n",
       "</div>"
      ],
      "text/plain": [
       "    transaction_dt        sum  count  revenue_per_transaction\n",
       "33      2016-07-04  216196.76  36888                 5.860897\n",
       "17      2016-06-18  180624.31  32269                 5.597456\n",
       "4       2016-06-05  182006.15  32681                 5.569173\n",
       "25      2016-06-26  181809.44  32653                 5.567925\n",
       "24      2016-06-25  181276.39  32582                 5.563697\n",
       "..             ...        ...    ...                      ...\n",
       "107     2016-09-19  170011.85  33836                 5.024585\n",
       "108     2016-09-20  167154.59  33330                 5.015139\n",
       "103     2016-09-15  167061.33  33470                 4.991375\n",
       "100     2016-09-12  166165.72  33294                 4.990861\n",
       "97      2016-09-09  167464.01  33613                 4.982120\n",
       "\n",
       "[110 rows x 4 columns]"
      ]
     },
     "execution_count": 78,
     "metadata": {},
     "output_type": "execute_result"
    }
   ],
   "source": [
    "revenue_by_date_all.sort_values(by='revenue_per_transaction',ascending=False)\n",
    "# 2016-07-04 (independence day) has high total revenue, # transactions, and revenue per transaction"
   ]
  },
  {
   "cell_type": "code",
   "execution_count": 79,
   "id": "69810dd4",
   "metadata": {},
   "outputs": [
    {
     "data": {
      "text/plain": [
       "172670.73844033552"
      ]
     },
     "execution_count": 79,
     "metadata": {},
     "output_type": "execute_result"
    }
   ],
   "source": [
    "# Calculate average daily revenue for all days expect for 2016-07-04\n",
    "revenue_by_date_all.loc[revenue_by_date_all['transaction_dt'] != '2016-07-04', 'sum'].mean()"
   ]
  },
  {
   "cell_type": "code",
   "execution_count": 80,
   "id": "83e4e05d",
   "metadata": {},
   "outputs": [
    {
     "data": {
      "text/plain": [
       "216196.75999990554"
      ]
     },
     "execution_count": 80,
     "metadata": {},
     "output_type": "execute_result"
    }
   ],
   "source": [
    "# Calculate daily revenue for 2016-07-04\n",
    "revenue_by_date_all.loc[revenue_by_date_all['transaction_dt'] == '2016-07-04', 'sum'].mean()"
   ]
  },
  {
   "cell_type": "code",
   "execution_count": null,
   "id": "11815ffd",
   "metadata": {},
   "outputs": [],
   "source": []
  },
  {
   "cell_type": "code",
   "execution_count": 81,
   "id": "461de99a",
   "metadata": {},
   "outputs": [],
   "source": [
    "# revenue and number of transactions by date and user\n",
    "revenue_by_date_user = df.groupby(['transaction_dt','acct_id'])['price'].agg(['sum','count']).reset_index()"
   ]
  },
  {
   "cell_type": "code",
   "execution_count": 82,
   "id": "86e64038",
   "metadata": {
    "scrolled": true
   },
   "outputs": [
    {
     "data": {
      "text/html": [
       "<div>\n",
       "<style scoped>\n",
       "    .dataframe tbody tr th:only-of-type {\n",
       "        vertical-align: middle;\n",
       "    }\n",
       "\n",
       "    .dataframe tbody tr th {\n",
       "        vertical-align: top;\n",
       "    }\n",
       "\n",
       "    .dataframe thead th {\n",
       "        text-align: right;\n",
       "    }\n",
       "</style>\n",
       "<table border=\"1\" class=\"dataframe\">\n",
       "  <thead>\n",
       "    <tr style=\"text-align: right;\">\n",
       "      <th></th>\n",
       "      <th>transaction_dt</th>\n",
       "      <th>acct_id</th>\n",
       "      <th>sum</th>\n",
       "      <th>count</th>\n",
       "    </tr>\n",
       "  </thead>\n",
       "  <tbody>\n",
       "    <tr>\n",
       "      <th>1992515</th>\n",
       "      <td>2016-09-18</td>\n",
       "      <td>011adcdd87696e67</td>\n",
       "      <td>287.77</td>\n",
       "      <td>23</td>\n",
       "    </tr>\n",
       "    <tr>\n",
       "      <th>1088788</th>\n",
       "      <td>2016-07-29</td>\n",
       "      <td>86c5c46b078d2fe9</td>\n",
       "      <td>281.74</td>\n",
       "      <td>26</td>\n",
       "    </tr>\n",
       "    <tr>\n",
       "      <th>419068</th>\n",
       "      <td>2016-06-23</td>\n",
       "      <td>ac14aed16eae1b41</td>\n",
       "      <td>279.75</td>\n",
       "      <td>25</td>\n",
       "    </tr>\n",
       "    <tr>\n",
       "      <th>1004385</th>\n",
       "      <td>2016-07-25</td>\n",
       "      <td>0203502006a86ab1</td>\n",
       "      <td>278.79</td>\n",
       "      <td>21</td>\n",
       "    </tr>\n",
       "    <tr>\n",
       "      <th>806846</th>\n",
       "      <td>2016-07-14</td>\n",
       "      <td>7904e78045a1f58d</td>\n",
       "      <td>257.82</td>\n",
       "      <td>18</td>\n",
       "    </tr>\n",
       "    <tr>\n",
       "      <th>...</th>\n",
       "      <td>...</td>\n",
       "      <td>...</td>\n",
       "      <td>...</td>\n",
       "      <td>...</td>\n",
       "    </tr>\n",
       "    <tr>\n",
       "      <th>1270277</th>\n",
       "      <td>2016-08-08</td>\n",
       "      <td>1b1abeab0cd8aec1</td>\n",
       "      <td>0.00</td>\n",
       "      <td>1</td>\n",
       "    </tr>\n",
       "    <tr>\n",
       "      <th>1270278</th>\n",
       "      <td>2016-08-08</td>\n",
       "      <td>1b1b4a40643e679e</td>\n",
       "      <td>0.00</td>\n",
       "      <td>1</td>\n",
       "    </tr>\n",
       "    <tr>\n",
       "      <th>1270279</th>\n",
       "      <td>2016-08-08</td>\n",
       "      <td>1b1df2526e61293b</td>\n",
       "      <td>0.00</td>\n",
       "      <td>1</td>\n",
       "    </tr>\n",
       "    <tr>\n",
       "      <th>1270281</th>\n",
       "      <td>2016-08-08</td>\n",
       "      <td>1b21036fcae4377f</td>\n",
       "      <td>0.00</td>\n",
       "      <td>1</td>\n",
       "    </tr>\n",
       "    <tr>\n",
       "      <th>1034489</th>\n",
       "      <td>2016-07-26</td>\n",
       "      <td>9d1ed5a806e32fc9</td>\n",
       "      <td>0.00</td>\n",
       "      <td>2</td>\n",
       "    </tr>\n",
       "  </tbody>\n",
       "</table>\n",
       "<p>2068978 rows × 4 columns</p>\n",
       "</div>"
      ],
      "text/plain": [
       "        transaction_dt           acct_id     sum  count\n",
       "1992515     2016-09-18  011adcdd87696e67  287.77     23\n",
       "1088788     2016-07-29  86c5c46b078d2fe9  281.74     26\n",
       "419068      2016-06-23  ac14aed16eae1b41  279.75     25\n",
       "1004385     2016-07-25  0203502006a86ab1  278.79     21\n",
       "806846      2016-07-14  7904e78045a1f58d  257.82     18\n",
       "...                ...               ...     ...    ...\n",
       "1270277     2016-08-08  1b1abeab0cd8aec1    0.00      1\n",
       "1270278     2016-08-08  1b1b4a40643e679e    0.00      1\n",
       "1270279     2016-08-08  1b1df2526e61293b    0.00      1\n",
       "1270281     2016-08-08  1b21036fcae4377f    0.00      1\n",
       "1034489     2016-07-26  9d1ed5a806e32fc9    0.00      2\n",
       "\n",
       "[2068978 rows x 4 columns]"
      ]
     },
     "execution_count": 82,
     "metadata": {},
     "output_type": "execute_result"
    }
   ],
   "source": [
    "revenue_by_date_user.sort_values(by='sum',ascending=False)"
   ]
  },
  {
   "cell_type": "code",
   "execution_count": 83,
   "id": "7dd7ff5e",
   "metadata": {},
   "outputs": [],
   "source": [
    "# revenue and number of transactions by date and content_id\n",
    "revenue_by_date_content = df.groupby(['transaction_dt','content_id'])['price'].agg(['sum','count']).reset_index()"
   ]
  },
  {
   "cell_type": "code",
   "execution_count": 84,
   "id": "c0c86464",
   "metadata": {
    "scrolled": false
   },
   "outputs": [
    {
     "data": {
      "text/html": [
       "<div>\n",
       "<style scoped>\n",
       "    .dataframe tbody tr th:only-of-type {\n",
       "        vertical-align: middle;\n",
       "    }\n",
       "\n",
       "    .dataframe tbody tr th {\n",
       "        vertical-align: top;\n",
       "    }\n",
       "\n",
       "    .dataframe thead th {\n",
       "        text-align: right;\n",
       "    }\n",
       "</style>\n",
       "<table border=\"1\" class=\"dataframe\">\n",
       "  <thead>\n",
       "    <tr style=\"text-align: right;\">\n",
       "      <th></th>\n",
       "      <th>transaction_dt</th>\n",
       "      <th>content_id</th>\n",
       "      <th>sum</th>\n",
       "      <th>count</th>\n",
       "    </tr>\n",
       "  </thead>\n",
       "  <tbody>\n",
       "    <tr>\n",
       "      <th>121848</th>\n",
       "      <td>2016-07-12</td>\n",
       "      <td>e4f948344caf86b7</td>\n",
       "      <td>1391.52</td>\n",
       "      <td>48</td>\n",
       "    </tr>\n",
       "    <tr>\n",
       "      <th>227773</th>\n",
       "      <td>2016-08-18</td>\n",
       "      <td>5127c2d615a704f3</td>\n",
       "      <td>1319.56</td>\n",
       "      <td>44</td>\n",
       "    </tr>\n",
       "    <tr>\n",
       "      <th>214935</th>\n",
       "      <td>2016-08-13</td>\n",
       "      <td>e4f948344caf86b7</td>\n",
       "      <td>1304.55</td>\n",
       "      <td>45</td>\n",
       "    </tr>\n",
       "    <tr>\n",
       "      <th>242325</th>\n",
       "      <td>2016-08-26</td>\n",
       "      <td>5127c2d615a704f3</td>\n",
       "      <td>1229.59</td>\n",
       "      <td>41</td>\n",
       "    </tr>\n",
       "    <tr>\n",
       "      <th>285610</th>\n",
       "      <td>2016-09-10</td>\n",
       "      <td>330640111f15f83e</td>\n",
       "      <td>1203.57</td>\n",
       "      <td>43</td>\n",
       "    </tr>\n",
       "    <tr>\n",
       "      <th>...</th>\n",
       "      <td>...</td>\n",
       "      <td>...</td>\n",
       "      <td>...</td>\n",
       "      <td>...</td>\n",
       "    </tr>\n",
       "    <tr>\n",
       "      <th>197514</th>\n",
       "      <td>2016-08-07</td>\n",
       "      <td>e81506bee4ed252e</td>\n",
       "      <td>0.00</td>\n",
       "      <td>45</td>\n",
       "    </tr>\n",
       "    <tr>\n",
       "      <th>52115</th>\n",
       "      <td>2016-06-18</td>\n",
       "      <td>ec2737eea22b1fc6</td>\n",
       "      <td>0.00</td>\n",
       "      <td>43</td>\n",
       "    </tr>\n",
       "    <tr>\n",
       "      <th>281334</th>\n",
       "      <td>2016-09-08</td>\n",
       "      <td>b5802f5ce77ebba0</td>\n",
       "      <td>0.00</td>\n",
       "      <td>46</td>\n",
       "    </tr>\n",
       "    <tr>\n",
       "      <th>197509</th>\n",
       "      <td>2016-08-07</td>\n",
       "      <td>e7d57aaaa0629317</td>\n",
       "      <td>0.00</td>\n",
       "      <td>43</td>\n",
       "    </tr>\n",
       "    <tr>\n",
       "      <th>269474</th>\n",
       "      <td>2016-09-04</td>\n",
       "      <td>a2f5435e63872446</td>\n",
       "      <td>0.00</td>\n",
       "      <td>47</td>\n",
       "    </tr>\n",
       "  </tbody>\n",
       "</table>\n",
       "<p>319982 rows × 4 columns</p>\n",
       "</div>"
      ],
      "text/plain": [
       "       transaction_dt        content_id      sum  count\n",
       "121848     2016-07-12  e4f948344caf86b7  1391.52     48\n",
       "227773     2016-08-18  5127c2d615a704f3  1319.56     44\n",
       "214935     2016-08-13  e4f948344caf86b7  1304.55     45\n",
       "242325     2016-08-26  5127c2d615a704f3  1229.59     41\n",
       "285610     2016-09-10  330640111f15f83e  1203.57     43\n",
       "...               ...               ...      ...    ...\n",
       "197514     2016-08-07  e81506bee4ed252e     0.00     45\n",
       "52115      2016-06-18  ec2737eea22b1fc6     0.00     43\n",
       "281334     2016-09-08  b5802f5ce77ebba0     0.00     46\n",
       "197509     2016-08-07  e7d57aaaa0629317     0.00     43\n",
       "269474     2016-09-04  a2f5435e63872446     0.00     47\n",
       "\n",
       "[319982 rows x 4 columns]"
      ]
     },
     "execution_count": 84,
     "metadata": {},
     "output_type": "execute_result"
    }
   ],
   "source": [
    "revenue_by_date_content.sort_values(by='sum',ascending=False)"
   ]
  },
  {
   "cell_type": "code",
   "execution_count": 85,
   "id": "a3174358",
   "metadata": {},
   "outputs": [],
   "source": [
    "# revenue and number of transactions by date and app_name\n",
    "revenue_by_date_app = df.groupby(['transaction_dt','app_name'])['price'].agg(['sum','count']).reset_index()"
   ]
  },
  {
   "cell_type": "code",
   "execution_count": 86,
   "id": "a9af6001",
   "metadata": {
    "scrolled": true
   },
   "outputs": [
    {
     "data": {
      "text/html": [
       "<div>\n",
       "<style scoped>\n",
       "    .dataframe tbody tr th:only-of-type {\n",
       "        vertical-align: middle;\n",
       "    }\n",
       "\n",
       "    .dataframe tbody tr th {\n",
       "        vertical-align: top;\n",
       "    }\n",
       "\n",
       "    .dataframe thead th {\n",
       "        text-align: right;\n",
       "    }\n",
       "</style>\n",
       "<table border=\"1\" class=\"dataframe\">\n",
       "  <thead>\n",
       "    <tr style=\"text-align: right;\">\n",
       "      <th></th>\n",
       "      <th>transaction_dt</th>\n",
       "      <th>app_name</th>\n",
       "      <th>sum</th>\n",
       "      <th>count</th>\n",
       "    </tr>\n",
       "  </thead>\n",
       "  <tbody>\n",
       "    <tr>\n",
       "      <th>81998</th>\n",
       "      <td>2016-08-25</td>\n",
       "      <td>aright Davy</td>\n",
       "      <td>5447.25</td>\n",
       "      <td>375</td>\n",
       "    </tr>\n",
       "    <tr>\n",
       "      <th>38138</th>\n",
       "      <td>2016-07-09</td>\n",
       "      <td>aright Davy</td>\n",
       "      <td>5438.20</td>\n",
       "      <td>380</td>\n",
       "    </tr>\n",
       "    <tr>\n",
       "      <th>52093</th>\n",
       "      <td>2016-07-23</td>\n",
       "      <td>aright Davy</td>\n",
       "      <td>5366.05</td>\n",
       "      <td>395</td>\n",
       "    </tr>\n",
       "    <tr>\n",
       "      <th>53090</th>\n",
       "      <td>2016-07-24</td>\n",
       "      <td>aright Davy</td>\n",
       "      <td>5302.04</td>\n",
       "      <td>396</td>\n",
       "    </tr>\n",
       "    <tr>\n",
       "      <th>18201</th>\n",
       "      <td>2016-06-19</td>\n",
       "      <td>aright Davy</td>\n",
       "      <td>5301.19</td>\n",
       "      <td>381</td>\n",
       "    </tr>\n",
       "    <tr>\n",
       "      <th>...</th>\n",
       "      <td>...</td>\n",
       "      <td>...</td>\n",
       "      <td>...</td>\n",
       "      <td>...</td>\n",
       "    </tr>\n",
       "    <tr>\n",
       "      <th>59697</th>\n",
       "      <td>2016-07-30</td>\n",
       "      <td>symbolize gentleman</td>\n",
       "      <td>0.00</td>\n",
       "      <td>41</td>\n",
       "    </tr>\n",
       "    <tr>\n",
       "      <th>59698</th>\n",
       "      <td>2016-07-30</td>\n",
       "      <td>sympathetic saw;</td>\n",
       "      <td>0.00</td>\n",
       "      <td>40</td>\n",
       "    </tr>\n",
       "    <tr>\n",
       "      <th>59699</th>\n",
       "      <td>2016-07-30</td>\n",
       "      <td>systematized settees</td>\n",
       "      <td>0.00</td>\n",
       "      <td>50</td>\n",
       "    </tr>\n",
       "    <tr>\n",
       "      <th>59706</th>\n",
       "      <td>2016-07-30</td>\n",
       "      <td>teaches anything</td>\n",
       "      <td>0.00</td>\n",
       "      <td>50</td>\n",
       "    </tr>\n",
       "    <tr>\n",
       "      <th>109650</th>\n",
       "      <td>2016-09-21</td>\n",
       "      <td>zone arched</td>\n",
       "      <td>0.00</td>\n",
       "      <td>48</td>\n",
       "    </tr>\n",
       "  </tbody>\n",
       "</table>\n",
       "<p>109651 rows × 4 columns</p>\n",
       "</div>"
      ],
      "text/plain": [
       "       transaction_dt              app_name      sum  count\n",
       "81998      2016-08-25           aright Davy  5447.25    375\n",
       "38138      2016-07-09           aright Davy  5438.20    380\n",
       "52093      2016-07-23           aright Davy  5366.05    395\n",
       "53090      2016-07-24           aright Davy  5302.04    396\n",
       "18201      2016-06-19           aright Davy  5301.19    381\n",
       "...               ...                   ...      ...    ...\n",
       "59697      2016-07-30   symbolize gentleman     0.00     41\n",
       "59698      2016-07-30      sympathetic saw;     0.00     40\n",
       "59699      2016-07-30  systematized settees     0.00     50\n",
       "59706      2016-07-30      teaches anything     0.00     50\n",
       "109650     2016-09-21           zone arched     0.00     48\n",
       "\n",
       "[109651 rows x 4 columns]"
      ]
     },
     "execution_count": 86,
     "metadata": {},
     "output_type": "execute_result"
    }
   ],
   "source": [
    "revenue_by_date_app.sort_values(by='sum',ascending=False)"
   ]
  },
  {
   "cell_type": "code",
   "execution_count": 87,
   "id": "1345a6c3",
   "metadata": {},
   "outputs": [],
   "source": [
    "# Calculate the revenue and # transactions by date and category \n",
    "revenue_by_date_category = df.groupby(['transaction_dt','category_name'])['price'].agg(['sum','count']).reset_index()"
   ]
  },
  {
   "cell_type": "code",
   "execution_count": 88,
   "id": "cb208fc8",
   "metadata": {},
   "outputs": [],
   "source": [
    "revenue_by_date_category.to_csv('revenue_by_date_category.csv')"
   ]
  },
  {
   "cell_type": "code",
   "execution_count": null,
   "id": "fe675a98",
   "metadata": {},
   "outputs": [],
   "source": []
  },
  {
   "cell_type": "code",
   "execution_count": 89,
   "id": "ac5cb0a0",
   "metadata": {},
   "outputs": [],
   "source": [
    "# game category top apps with most revenue \n",
    "game_by_app = df.loc[df['category_name']=='Games',:].groupby('app_name')['price'].sum().reset_index()"
   ]
  },
  {
   "cell_type": "code",
   "execution_count": 90,
   "id": "fba0f9f3",
   "metadata": {
    "scrolled": true
   },
   "outputs": [
    {
     "data": {
      "text/html": [
       "<div>\n",
       "<style scoped>\n",
       "    .dataframe tbody tr th:only-of-type {\n",
       "        vertical-align: middle;\n",
       "    }\n",
       "\n",
       "    .dataframe tbody tr th {\n",
       "        vertical-align: top;\n",
       "    }\n",
       "\n",
       "    .dataframe thead th {\n",
       "        text-align: right;\n",
       "    }\n",
       "</style>\n",
       "<table border=\"1\" class=\"dataframe\">\n",
       "  <thead>\n",
       "    <tr style=\"text-align: right;\">\n",
       "      <th></th>\n",
       "      <th>app_name</th>\n",
       "      <th>price</th>\n",
       "    </tr>\n",
       "  </thead>\n",
       "  <tbody>\n",
       "    <tr>\n",
       "      <th>98</th>\n",
       "      <td>aright Davy</td>\n",
       "      <td>525327.37</td>\n",
       "    </tr>\n",
       "    <tr>\n",
       "      <th>368</th>\n",
       "      <td>unwritten hungry</td>\n",
       "      <td>505698.02</td>\n",
       "    </tr>\n",
       "    <tr>\n",
       "      <th>130</th>\n",
       "      <td>ceases half;</td>\n",
       "      <td>345078.78</td>\n",
       "    </tr>\n",
       "    <tr>\n",
       "      <th>8</th>\n",
       "      <td>AS-IS vagueness</td>\n",
       "      <td>323134.93</td>\n",
       "    </tr>\n",
       "    <tr>\n",
       "      <th>1</th>\n",
       "      <td>'vomited men</td>\n",
       "      <td>322644.08</td>\n",
       "    </tr>\n",
       "    <tr>\n",
       "      <th>...</th>\n",
       "      <td>...</td>\n",
       "      <td>...</td>\n",
       "    </tr>\n",
       "    <tr>\n",
       "      <th>125</th>\n",
       "      <td>canoe midships!</td>\n",
       "      <td>0.00</td>\n",
       "    </tr>\n",
       "    <tr>\n",
       "      <th>278</th>\n",
       "      <td>predictions key-hole;</td>\n",
       "      <td>0.00</td>\n",
       "    </tr>\n",
       "    <tr>\n",
       "      <th>275</th>\n",
       "      <td>powerfully plan</td>\n",
       "      <td>0.00</td>\n",
       "    </tr>\n",
       "    <tr>\n",
       "      <th>269</th>\n",
       "      <td>painted ourselves;</td>\n",
       "      <td>0.00</td>\n",
       "    </tr>\n",
       "    <tr>\n",
       "      <th>390</th>\n",
       "      <td>zone arched</td>\n",
       "      <td>0.00</td>\n",
       "    </tr>\n",
       "  </tbody>\n",
       "</table>\n",
       "<p>391 rows × 2 columns</p>\n",
       "</div>"
      ],
      "text/plain": [
       "                  app_name      price\n",
       "98             aright Davy  525327.37\n",
       "368       unwritten hungry  505698.02\n",
       "130           ceases half;  345078.78\n",
       "8          AS-IS vagueness  323134.93\n",
       "1             'vomited men  322644.08\n",
       "..                     ...        ...\n",
       "125        canoe midships!       0.00\n",
       "278  predictions key-hole;       0.00\n",
       "275        powerfully plan       0.00\n",
       "269     painted ourselves;       0.00\n",
       "390            zone arched       0.00\n",
       "\n",
       "[391 rows x 2 columns]"
      ]
     },
     "execution_count": 90,
     "metadata": {},
     "output_type": "execute_result"
    }
   ],
   "source": [
    "game_by_app.sort_values(by='price',ascending=False)"
   ]
  },
  {
   "cell_type": "code",
   "execution_count": 91,
   "id": "b7a879d7",
   "metadata": {},
   "outputs": [],
   "source": [
    "game_by_app.to_csv('game_by_app.csv')"
   ]
  },
  {
   "cell_type": "code",
   "execution_count": null,
   "id": "c3d3271c",
   "metadata": {},
   "outputs": [],
   "source": []
  },
  {
   "cell_type": "code",
   "execution_count": 92,
   "id": "a0fe1921",
   "metadata": {},
   "outputs": [],
   "source": [
    "# Get the revenue by category and inapp/app purchases\n",
    "df_category_inapp_agg = df.groupby(['category_name','content_type'])['price'].sum().reset_index()"
   ]
  },
  {
   "cell_type": "code",
   "execution_count": 93,
   "id": "8950e9b3",
   "metadata": {},
   "outputs": [],
   "source": [
    "df_category_inapp_agg.to_csv(\"df_category_inapp_agg.csv\")"
   ]
  },
  {
   "cell_type": "code",
   "execution_count": null,
   "id": "d2356be6",
   "metadata": {},
   "outputs": [],
   "source": []
  },
  {
   "cell_type": "code",
   "execution_count": 94,
   "id": "2225cde3",
   "metadata": {},
   "outputs": [
    {
     "data": {
      "text/plain": [
       "payment_type\n",
       "Free only    50000\n",
       "PMOF         50000\n",
       "Name: acct_id, dtype: int64"
      ]
     },
     "execution_count": 94,
     "metadata": {},
     "output_type": "execute_result"
    }
   ],
   "source": [
    "# check number of free only and PMOF users\n",
    "df_account.groupby('payment_type')['acct_id'].count()"
   ]
  },
  {
   "cell_type": "code",
   "execution_count": 96,
   "id": "50978738",
   "metadata": {},
   "outputs": [
    {
     "data": {
      "text/plain": [
       "payment_type\n",
       "Free only    0.000000e+00\n",
       "PMOF         1.903731e+07\n",
       "Name: price, dtype: float64"
      ]
     },
     "execution_count": 96,
     "metadata": {},
     "output_type": "execute_result"
    }
   ],
   "source": [
    "# revenue from free only and PMOF users\n",
    "df.groupby('payment_type')['price'].sum()"
   ]
  },
  {
   "cell_type": "code",
   "execution_count": null,
   "id": "310a5dff",
   "metadata": {},
   "outputs": [],
   "source": []
  },
  {
   "cell_type": "code",
   "execution_count": 97,
   "id": "e1c55022",
   "metadata": {},
   "outputs": [
    {
     "data": {
      "text/plain": [
       "payment_type\n",
       "Free only    1167271\n",
       "PMOF          425655\n",
       "Name: price, dtype: int64"
      ]
     },
     "execution_count": 97,
     "metadata": {},
     "output_type": "execute_result"
    }
   ],
   "source": [
    "# for app purchases (Download), calculate revenue for free only and PMOF users \n",
    "df[df['content_type'] == 'app'].groupby('payment_type')['price'].count()"
   ]
  },
  {
   "cell_type": "code",
   "execution_count": 98,
   "id": "e12a0888",
   "metadata": {},
   "outputs": [
    {
     "data": {
      "text/plain": [
       "'1/1/08'"
      ]
     },
     "execution_count": 98,
     "metadata": {},
     "output_type": "execute_result"
    }
   ],
   "source": [
    "min(df_account['create_dt'])"
   ]
  },
  {
   "cell_type": "code",
   "execution_count": 99,
   "id": "fc9fa879",
   "metadata": {},
   "outputs": [
    {
     "data": {
      "text/plain": [
       "'9/9/16'"
      ]
     },
     "execution_count": 99,
     "metadata": {},
     "output_type": "execute_result"
    }
   ],
   "source": [
    "max(df_account['create_dt'])"
   ]
  },
  {
   "cell_type": "code",
   "execution_count": 100,
   "id": "2e21cf23",
   "metadata": {},
   "outputs": [
    {
     "data": {
      "text/plain": [
       "Timestamp('2016-06-01 00:00:00')"
      ]
     },
     "execution_count": 100,
     "metadata": {},
     "output_type": "execute_result"
    }
   ],
   "source": [
    "min(df['transaction_dt'])"
   ]
  },
  {
   "cell_type": "code",
   "execution_count": 101,
   "id": "63740e06",
   "metadata": {},
   "outputs": [
    {
     "data": {
      "text/plain": [
       "Timestamp('2016-09-21 00:00:00')"
      ]
     },
     "execution_count": 101,
     "metadata": {},
     "output_type": "execute_result"
    }
   ],
   "source": [
    "max(df['transaction_dt'])"
   ]
  },
  {
   "cell_type": "code",
   "execution_count": null,
   "id": "76aa32bc",
   "metadata": {},
   "outputs": [],
   "source": []
  },
  {
   "cell_type": "code",
   "execution_count": 105,
   "id": "d8cc262d",
   "metadata": {},
   "outputs": [],
   "source": [
    "df['create_dt'] = pd.to_datetime(df['create_dt'])"
   ]
  },
  {
   "cell_type": "code",
   "execution_count": 106,
   "id": "f195cf15",
   "metadata": {},
   "outputs": [],
   "source": [
    "# calculate the account age of = max(transaction date) - account creation date \n",
    "df['age'] = (df['transaction_dt'].max() - df['create_dt']).dt.days"
   ]
  },
  {
   "cell_type": "code",
   "execution_count": 108,
   "id": "ff876235",
   "metadata": {},
   "outputs": [],
   "source": [
    "df_account['create_dt'] = pd.to_datetime(df_account['create_dt'])"
   ]
  },
  {
   "cell_type": "code",
   "execution_count": 109,
   "id": "57cbf29f",
   "metadata": {},
   "outputs": [],
   "source": [
    "df_account['age'] = (df['transaction_dt'].max() - df_account['create_dt']).dt.days"
   ]
  },
  {
   "cell_type": "code",
   "execution_count": 110,
   "id": "b84048f9",
   "metadata": {},
   "outputs": [],
   "source": [
    "# get a cohort users created between 2016-06-01 and 2016-08-31\n",
    "df_account_subset = df_account[(df_account['create_dt']>=pd.to_datetime('2016-06-01')) & (df_account['create_dt']<=pd.to_datetime('2016-08-31'))]"
   ]
  },
  {
   "cell_type": "code",
   "execution_count": 111,
   "id": "ad9cd960",
   "metadata": {},
   "outputs": [],
   "source": [
    "# Get first app purchase date \n",
    "df_first_app_purchase = df[df['content_type']=='app'].groupby('acct_id')['transaction_dt'].min().reset_index()"
   ]
  },
  {
   "cell_type": "code",
   "execution_count": 112,
   "id": "d523ac97",
   "metadata": {},
   "outputs": [],
   "source": [
    "df_first_tran_join = pd.merge(df_account_subset, df_first_app_purchase, on='acct_id',how='left')"
   ]
  },
  {
   "cell_type": "code",
   "execution_count": 113,
   "id": "844dba32",
   "metadata": {},
   "outputs": [],
   "source": [
    "# get the days from account creation to first transaction\n",
    "df_first_tran_join['days_to_first_transaction'] = (df_first_tran_join['transaction_dt'] - df_first_tran_join['create_dt']).dt.days"
   ]
  },
  {
   "cell_type": "code",
   "execution_count": 114,
   "id": "b01c3d62",
   "metadata": {
    "scrolled": true
   },
   "outputs": [
    {
     "data": {
      "text/html": [
       "<div>\n",
       "<style scoped>\n",
       "    .dataframe tbody tr th:only-of-type {\n",
       "        vertical-align: middle;\n",
       "    }\n",
       "\n",
       "    .dataframe tbody tr th {\n",
       "        vertical-align: top;\n",
       "    }\n",
       "\n",
       "    .dataframe thead th {\n",
       "        text-align: right;\n",
       "    }\n",
       "</style>\n",
       "<table border=\"1\" class=\"dataframe\">\n",
       "  <thead>\n",
       "    <tr style=\"text-align: right;\">\n",
       "      <th></th>\n",
       "      <th>acct_id</th>\n",
       "      <th>create_dt</th>\n",
       "      <th>payment_type</th>\n",
       "      <th>age</th>\n",
       "      <th>transaction_dt</th>\n",
       "      <th>days_to_first_transaction</th>\n",
       "    </tr>\n",
       "  </thead>\n",
       "  <tbody>\n",
       "    <tr>\n",
       "      <th>0</th>\n",
       "      <td>d997ebd8b876890c</td>\n",
       "      <td>2016-07-17</td>\n",
       "      <td>Free only</td>\n",
       "      <td>66</td>\n",
       "      <td>NaT</td>\n",
       "      <td>NaN</td>\n",
       "    </tr>\n",
       "    <tr>\n",
       "      <th>1</th>\n",
       "      <td>3ad1db4157dccea8</td>\n",
       "      <td>2016-06-09</td>\n",
       "      <td>Free only</td>\n",
       "      <td>104</td>\n",
       "      <td>2016-06-01</td>\n",
       "      <td>-8.0</td>\n",
       "    </tr>\n",
       "    <tr>\n",
       "      <th>2</th>\n",
       "      <td>1a17b8ada006aed8</td>\n",
       "      <td>2016-06-10</td>\n",
       "      <td>Free only</td>\n",
       "      <td>103</td>\n",
       "      <td>NaT</td>\n",
       "      <td>NaN</td>\n",
       "    </tr>\n",
       "    <tr>\n",
       "      <th>3</th>\n",
       "      <td>f7378848007b8912</td>\n",
       "      <td>2016-08-19</td>\n",
       "      <td>Free only</td>\n",
       "      <td>33</td>\n",
       "      <td>NaT</td>\n",
       "      <td>NaN</td>\n",
       "    </tr>\n",
       "    <tr>\n",
       "      <th>4</th>\n",
       "      <td>fb03994d5f558600</td>\n",
       "      <td>2016-06-09</td>\n",
       "      <td>Free only</td>\n",
       "      <td>104</td>\n",
       "      <td>2016-06-01</td>\n",
       "      <td>-8.0</td>\n",
       "    </tr>\n",
       "  </tbody>\n",
       "</table>\n",
       "</div>"
      ],
      "text/plain": [
       "            acct_id  create_dt payment_type  age transaction_dt  \\\n",
       "0  d997ebd8b876890c 2016-07-17    Free only   66            NaT   \n",
       "1  3ad1db4157dccea8 2016-06-09    Free only  104     2016-06-01   \n",
       "2  1a17b8ada006aed8 2016-06-10    Free only  103            NaT   \n",
       "3  f7378848007b8912 2016-08-19    Free only   33            NaT   \n",
       "4  fb03994d5f558600 2016-06-09    Free only  104     2016-06-01   \n",
       "\n",
       "   days_to_first_transaction  \n",
       "0                        NaN  \n",
       "1                       -8.0  \n",
       "2                        NaN  \n",
       "3                        NaN  \n",
       "4                       -8.0  "
      ]
     },
     "execution_count": 114,
     "metadata": {},
     "output_type": "execute_result"
    }
   ],
   "source": [
    "df_first_tran_join.head()"
   ]
  },
  {
   "cell_type": "code",
   "execution_count": 115,
   "id": "853aab7e",
   "metadata": {},
   "outputs": [
    {
     "data": {
      "text/plain": [
       "acct_id                      818\n",
       "create_dt                    818\n",
       "payment_type                 818\n",
       "age                          818\n",
       "transaction_dt               818\n",
       "days_to_first_transaction    818\n",
       "dtype: int64"
      ]
     },
     "execution_count": 115,
     "metadata": {},
     "output_type": "execute_result"
    }
   ],
   "source": [
    "df_first_tran_join[df_first_tran_join['days_to_first_transaction']<=0].count()"
   ]
  },
  {
   "cell_type": "code",
   "execution_count": 116,
   "id": "8f476d22",
   "metadata": {
    "scrolled": true
   },
   "outputs": [
    {
     "data": {
      "text/plain": [
       "acct_id                      10\n",
       "create_dt                    10\n",
       "payment_type                 10\n",
       "age                          10\n",
       "transaction_dt               10\n",
       "days_to_first_transaction    10\n",
       "dtype: int64"
      ]
     },
     "execution_count": 116,
     "metadata": {},
     "output_type": "execute_result"
    }
   ],
   "source": [
    "df_first_tran_join[df_first_tran_join['days_to_first_transaction']>0].count()\n",
    "# Because of data quality issue, date to first transaction date is not available"
   ]
  },
  {
   "cell_type": "code",
   "execution_count": null,
   "id": "5d5be83b",
   "metadata": {},
   "outputs": [],
   "source": []
  },
  {
   "cell_type": "code",
   "execution_count": 117,
   "id": "e78779e4",
   "metadata": {},
   "outputs": [],
   "source": [
    "# Get a cohort of users before 2016-06-01\n",
    "df_account_before_june = df_account[df_account['create_dt']<=pd.to_datetime('2016-05-31')]"
   ]
  },
  {
   "cell_type": "code",
   "execution_count": 118,
   "id": "5d514a37",
   "metadata": {},
   "outputs": [
    {
     "data": {
      "text/html": [
       "<div>\n",
       "<style scoped>\n",
       "    .dataframe tbody tr th:only-of-type {\n",
       "        vertical-align: middle;\n",
       "    }\n",
       "\n",
       "    .dataframe tbody tr th {\n",
       "        vertical-align: top;\n",
       "    }\n",
       "\n",
       "    .dataframe thead th {\n",
       "        text-align: right;\n",
       "    }\n",
       "</style>\n",
       "<table border=\"1\" class=\"dataframe\">\n",
       "  <thead>\n",
       "    <tr style=\"text-align: right;\">\n",
       "      <th></th>\n",
       "      <th>acct_id</th>\n",
       "      <th>create_dt</th>\n",
       "      <th>age</th>\n",
       "    </tr>\n",
       "    <tr>\n",
       "      <th>payment_type</th>\n",
       "      <th></th>\n",
       "      <th></th>\n",
       "      <th></th>\n",
       "    </tr>\n",
       "  </thead>\n",
       "  <tbody>\n",
       "    <tr>\n",
       "      <th>Free only</th>\n",
       "      <td>38315</td>\n",
       "      <td>38315</td>\n",
       "      <td>38315</td>\n",
       "    </tr>\n",
       "    <tr>\n",
       "      <th>PMOF</th>\n",
       "      <td>50000</td>\n",
       "      <td>50000</td>\n",
       "      <td>50000</td>\n",
       "    </tr>\n",
       "  </tbody>\n",
       "</table>\n",
       "</div>"
      ],
      "text/plain": [
       "              acct_id  create_dt    age\n",
       "payment_type                           \n",
       "Free only       38315      38315  38315\n",
       "PMOF            50000      50000  50000"
      ]
     },
     "execution_count": 118,
     "metadata": {},
     "output_type": "execute_result"
    }
   ],
   "source": [
    "df_account_before_june.groupby('payment_type').count()"
   ]
  },
  {
   "cell_type": "code",
   "execution_count": 119,
   "id": "b0f8ced1",
   "metadata": {},
   "outputs": [],
   "source": [
    "# Calculate revenue per user\n",
    "revenue_by_user = df.groupby('acct_id')['price'].sum().reset_index()"
   ]
  },
  {
   "cell_type": "code",
   "execution_count": 121,
   "id": "02671a52",
   "metadata": {},
   "outputs": [],
   "source": [
    "# Get the revenue for users with payment on file \n",
    "df_account_before_june_paid = df_account_before_june[df_account_before_june['payment_type'] == 'PMOF']"
   ]
  },
  {
   "cell_type": "code",
   "execution_count": 122,
   "id": "9f60fae7",
   "metadata": {},
   "outputs": [],
   "source": [
    "df_account_before_june_paid = pd.merge(df_account_before_june_paid, revenue_by_user, on='acct_id', how='left')"
   ]
  },
  {
   "cell_type": "code",
   "execution_count": 123,
   "id": "82ed8cb2",
   "metadata": {},
   "outputs": [],
   "source": [
    "df_account_before_june_paid['price'] =  df_account_before_june_paid['price'].fillna(0)"
   ]
  },
  {
   "cell_type": "code",
   "execution_count": 124,
   "id": "6f408049",
   "metadata": {},
   "outputs": [],
   "source": [
    "df_account_before_june_paid.to_csv(\"paid_by_age.csv\")"
   ]
  },
  {
   "cell_type": "code",
   "execution_count": null,
   "id": "a92bd8ae",
   "metadata": {},
   "outputs": [],
   "source": []
  },
  {
   "cell_type": "code",
   "execution_count": 125,
   "id": "be847ad6",
   "metadata": {},
   "outputs": [],
   "source": [
    "# Get the number of download (app purchases) for users without payment on file \n",
    "df_account_before_june_unpaid = df_account_before_june[df_account_before_june['payment_type'] == 'Free only']"
   ]
  },
  {
   "cell_type": "code",
   "execution_count": 126,
   "id": "83d22395",
   "metadata": {},
   "outputs": [],
   "source": [
    "app_purchase_by_user = df[df['content_type']=='app'].groupby('acct_id')['price'].count().reset_index()"
   ]
  },
  {
   "cell_type": "code",
   "execution_count": 127,
   "id": "ca1404b3",
   "metadata": {},
   "outputs": [],
   "source": [
    "app_purchase_by_user.columns= ['acct_id','app_purchase_count']"
   ]
  },
  {
   "cell_type": "code",
   "execution_count": 128,
   "id": "5b069d77",
   "metadata": {},
   "outputs": [],
   "source": [
    "df_account_before_june_unpaid = pd.merge(df_account_before_june_unpaid,app_purchase_by_user,on='acct_id')"
   ]
  },
  {
   "cell_type": "code",
   "execution_count": 129,
   "id": "e693ce83",
   "metadata": {},
   "outputs": [],
   "source": [
    "df_account_before_june_unpaid['app_purchase_count'] = df_account_before_june_unpaid['app_purchase_count'].fillna(0)"
   ]
  },
  {
   "cell_type": "code",
   "execution_count": 130,
   "id": "44096a6b",
   "metadata": {},
   "outputs": [],
   "source": [
    "df_account_before_june_unpaid.to_csv('df_account_before_june_unpaid.csv')"
   ]
  },
  {
   "cell_type": "code",
   "execution_count": null,
   "id": "d05f1025",
   "metadata": {},
   "outputs": [],
   "source": []
  },
  {
   "cell_type": "code",
   "execution_count": 131,
   "id": "22976e30",
   "metadata": {},
   "outputs": [],
   "source": [
    "# Get the number of download (app purchases) for users with payment on file \n",
    "df_account_before_june_paid = pd.merge(df_account_before_june_paid, app_purchase_by_user, on ='acct_id')"
   ]
  },
  {
   "cell_type": "code",
   "execution_count": 132,
   "id": "b8dda66f",
   "metadata": {},
   "outputs": [],
   "source": [
    "df_account_before_june_paid.to_csv('app_purchase_paid_user.csv')"
   ]
  }
 ],
 "metadata": {
  "kernelspec": {
   "display_name": "Python 3",
   "language": "python",
   "name": "python3"
  },
  "language_info": {
   "codemirror_mode": {
    "name": "ipython",
    "version": 3
   },
   "file_extension": ".py",
   "mimetype": "text/x-python",
   "name": "python",
   "nbconvert_exporter": "python",
   "pygments_lexer": "ipython3",
   "version": "3.8.8"
  }
 },
 "nbformat": 4,
 "nbformat_minor": 5
}
